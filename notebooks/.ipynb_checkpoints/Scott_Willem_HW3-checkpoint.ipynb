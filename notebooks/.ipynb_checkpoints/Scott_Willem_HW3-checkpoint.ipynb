{
 "cells": [
  {
   "cell_type": "markdown",
   "metadata": {},
   "source": [
    "#### <a id='top'></a>\n",
    "\n",
    "# Homework 3: Conditional Probability and Random Choice \n",
    "***\n",
    "\n",
    "**Name**: Willem Scott\n",
    "\n",
    "***\n",
    "\n",
    "This assignment is due on Canvas by **MIDNIGHT on Monday September 21**. Your solutions to theoretical questions should be done in Markdown directly below the associated question.  Your solutions to computational questions should include any specified Python code and results as well as written commentary on your conclusions.  Remember that you are encouraged to discuss the problems with your classmates, but **you must write all code and solutions on your own**.\n",
    "\n",
    "**NOTES**: \n",
    "\n",
    "- Any relevant data sets should be available under the **Data** module on Canvas. To make life easier on the graders if they need to run your code, do not change the relative path names here. Instead, move the files around on your computer.\n",
    "- If you're not familiar with typesetting math directly into Markdown then by all means, do your work on paper first and then typeset it later.  Remember that there is a [reference guide](https://math.meta.stackexchange.com/questions/5020/mathjax-basic-tutorial-and-quick-reference) linked on Canvas on writing math in Markdown. **All** of your written commentary, justifications and mathematical work should be in Markdown.\n",
    "- Because you can technically evaluate notebook cells is a non-linear order, it's a good idea to do Kernel $\\rightarrow$ Restart & Run All as a check before submitting your solutions.  That way if we need to run your code you will know that it will work as expected. \n",
    "- It is **bad form** to make your reader interpret numerical output from your code.  If a question asks you to compute some value from the data you should show your code output **AND** write a summary of the results in Markdown directly below your code. \n",
    "- 95 points of this assignment are in problems.  The remaining 5 are for neatness, style, and overall exposition of both code and text.\n",
    "- This probably goes without saying, but... For any question that asks you to calculate something, you **must show all work and justify your answers to receive credit**. Sparse or nonexistent work will receive sparse or nonexistent credit. \n",
    "\n",
    "---\n",
    "**Shortcuts:**  [Problem 1](#p1) | [Problem 2](#p2) | [Problem 3](#p3) |\n",
    "\n",
    "---"
   ]
  },
  {
   "cell_type": "code",
   "execution_count": 1,
   "metadata": {},
   "outputs": [],
   "source": [
    "import pandas as pd\n",
    "import numpy as np\n",
    "import matplotlib.pylab as plt\n",
    "%matplotlib inline"
   ]
  },
  {
   "cell_type": "markdown",
   "metadata": {},
   "source": [
    "***\n",
    "<a/ id='p1'></a>\n",
    "[Back to top](#top)\n",
    "\n",
    "## (25 pts) Problem 1: Theory (Independence)\n",
    "\n",
    "In the popular video game series Pokémon, players conduct battles between their pokémon (creatures). In the main series of games, these battles are [turn-based](#https://en.wikipedia.org/wiki/Turns,_rounds_and_time-keeping_systems_in_games#Turn-based), similar to a game of checkers, chess, or Go.\n",
    "\n",
    "Let's create a new set of rules for a pokémon duel so they don't have to battle until they faint. For our example, we will look at Pikachu vs. Eevee. Pikachu has a higher base Speed, so they will get to move first.\n",
    "\n",
    "* The duel is composed of an unknown number of rounds (same as Pokémon).\n",
    "* Each round is still turn-based, it consists of Pikachu trying to strike Eevee, then Eevee trying to strike Pikachu.\n",
    "* If Pikachu manages to strike Eevee, then Pikachu is awarded a point, and similarly if Eevee manages to strike Pikachu, then Eevee is awarded a point.\n",
    "* If a round ends in a tie, then Pikachu and Eevee proceed to another round. If a round ends with one pokémon scoring a point but the other one does not, then the pokémon who scored a point wins the duel.\n",
    "\n",
    "Let $U$ be the event that \"Picachu wins the duel\", $F$ be the event that \"the duel ends after the first round of strikes\", and $C$ be the event that \"the duel continues after the first round of strikes\".  Suppose that the result of one strike is independent of the other strikes, Picachu successfully lands their strikes with probability $p$ (based on their accuracy and Eevee's evasiveness), and Eevee similarly lands their strikes with probability $q$."
   ]
  },
  {
   "cell_type": "markdown",
   "metadata": {},
   "source": [
    "**Part A**: The duel will continue until Picachu or Eevee wins.  What is the sample space $\\Omega$ for this \"experiment\"?  Represent the outcomes of individual strikes by $H$ for a hit and $M$ for a miss. At the very least, your answer should include all of the events in $\\Omega$ that include one or two rounds.\n",
    "\n",
    "HINT: Remember that Pikachu has the first strike in each round!"
   ]
  },
  {
   "cell_type": "markdown",
   "metadata": {},
   "source": [
    "{H, M} Pikachu wins\n",
    "\n",
    "{M, H} Eevee wins\n",
    "\n",
    "{M, M} Tie, move to second round\n",
    "- {M, M, H, M} Pikachu wins second round\n",
    "- {M, M, M, H} Eevee wins second round\n",
    "- {M, M, H, H} Tie, move to third round\n",
    "- {M, M, M, M} Tie, move to third round\n",
    "\n",
    "{H, H} Tie, move to second round\n",
    "- {H, H, H, M} Pikachu wins second round\n",
    "- {H, H, M, H} Eevee wins second round\n",
    "- {H, H, H, H} Tie, move to third round\n",
    "- {H, H, M, M} Tie, move to third round"
   ]
  },
  {
   "cell_type": "markdown",
   "metadata": {},
   "source": [
    "**Part B**: Determine $P(U \\mid F)$ in terms of $p$ and $q$."
   ]
  },
  {
   "cell_type": "markdown",
   "metadata": {},
   "source": [
    "$P(U|F) = p \\times (1 - q)$"
   ]
  },
  {
   "cell_type": "code",
   "execution_count": null,
   "metadata": {},
   "outputs": [],
   "source": []
  },
  {
   "cell_type": "markdown",
   "metadata": {},
   "source": [
    "**Part C**: Explain why events $C$ and $U$ are independent. "
   ]
  },
  {
   "cell_type": "markdown",
   "metadata": {},
   "source": [
    "Attacks are independent of each other, just because both hit or both missed round one, does not mean round two will be impacted by what happened, both have the same chances of winning each round."
   ]
  },
  {
   "cell_type": "markdown",
   "metadata": {},
   "source": [
    "**Part D**: Use the Law of Total Probability to show that $P(U) = p(1-q) + (2pq - p - q +1) ~ P(U \\mid C)$. "
   ]
  },
  {
   "cell_type": "markdown",
   "metadata": {},
   "source": [
    "By the Law of Total Probability $P(U) = P(U \\cap F) + P(U \\cap C)$\n",
    "\n",
    "Since U and C are independent $P(U \\cap C) = P(U) \\times P(C)$\n",
    "\n",
    "$P(C) = p \\times q + (1-p) \\times (1-q)$ where P(C) is the union between when both miss or both hit \n",
    "\n",
    "substituting back in $P(U \\cap C) = P(U) \\times (pq + (1 -p)(1-q))$\n",
    "and then multiply it back through gives $P(U \\cap C) = P(U) \\times (2pq - p - q + 1)$\n",
    " \n",
    "Then, since $P(U) = P(U \\mid C)$ since the two are independent, change some terms to make closer to our goal $P(U \\cap C) = (2pq - p - q + 1) ~ P(U \\mid C)$\n",
    "\n",
    "$P(U \\cap F) = P(U \\mid F) = p(1-q)$ since the events are independent. Therefore $P(U) = p(1-q) + (2pq - p - q + 1) ~ P(U \\mid C)$"
   ]
  },
  {
   "cell_type": "markdown",
   "metadata": {},
   "source": [
    "**Part E**: Use the fact from **Part C** that $P(U \\mid C) = P(U)$ to determine $P(U)$ in terms of $p$ and $q$."
   ]
  },
  {
   "cell_type": "markdown",
   "metadata": {},
   "source": [
    "$P(U) = p \\times (1 - q)$\n",
    "C and U are independent, and F and U are independent as well, since F is dependent on C alone"
   ]
  },
  {
   "cell_type": "markdown",
   "metadata": {},
   "source": [
    "**Part F**: Explain why the answers to **Part B** and **Part E** are the same. "
   ]
  },
  {
   "cell_type": "markdown",
   "metadata": {},
   "source": [
    "$P(U) = P(U | F) = P(U | C)$ since U is independent of both F and C"
   ]
  },
  {
   "cell_type": "markdown",
   "metadata": {},
   "source": [
    "**Part G**: Explain the significance of the solution technique for $P(U)$ outlined in **Part D** and **Part E**.  Why did we go this route instead of computing $P(T)$ directly?  Can we always use such techniques?  What assumption did we need to make in order to use this solution approach?"
   ]
  },
  {
   "cell_type": "markdown",
   "metadata": {},
   "source": [
    "From this we can compute it using terms we know, but we aren't always afforded all our primary variables being independent."
   ]
  },
  {
   "cell_type": "markdown",
   "metadata": {},
   "source": [
    "[Back to top](#top)\n",
    "<a id='p2'></a>\n",
    "\n",
    "## (30 pts) Problem 2: Computation (Joker Poker Hands)\n",
    "***\n"
   ]
  },
  {
   "cell_type": "markdown",
   "metadata": {},
   "source": [
    "A common example for discrete counting and probability questions are poker hands.  Consider using a standard 52-card playing deck, with card faces `[A,2,3,4,5,6,7,8,9,10,J,Q,K]` across the standard 4 suits: `[C,D,H,S]`.  For the markdown portions of this problem, you may leave your answer in terms of a ratio of products, but you should simplify away any combinatoric notation such as ${n \\choose k}$ or $P(n,k)$.\n",
    "\n",
    "**Part A:**\n",
    "\n",
    "Suppose we draw 5 cards at random from the deck.  What is the probability that we have a \"3 of a kind:\" a hand with 3 copies of one face card and the other two cards unmatched?"
   ]
  },
  {
   "cell_type": "markdown",
   "metadata": {},
   "source": [
    "Total 3 of a kind hands: $C(13, 1) * C(12, 2) * C(4, 3) * C(4, 1)^2$\n",
    "\n",
    "$C(13, 1)$ - Choose card for 3 of kind\n",
    "\n",
    "$C(12, 2)$ - Choose two remaining cards which cannot match each other or original card\n",
    "\n",
    "$C(4, 3)$ - Choose the 3 suits of 4 for our original card\n",
    "\n",
    "$C(4, 1)$ - Choose the remaining two cards suits, one C(4, 1) each\n",
    "\n",
    "Out of C(52, 5) total hands\n",
    "\n",
    "$$\\frac{C(13, 1) * C(12, 2) * C(4, 3) * C(4, 1)^2}{C(52, 5)} = ~2.1\\%$$"
   ]
  },
  {
   "cell_type": "markdown",
   "metadata": {},
   "source": [
    "**Part B:**\n",
    "\n",
    "Suppose we add a single \"Joker\" card to the deck.  The Joker may serve as a copy of any card in the deck, including one already in our hand.  \n",
    "\n",
    "Suppose we draw 5 cards at random from the deck.  What is the probability that we now have \"3 of a kind?\"  This should now include hands with 2 copies of one face and a joker (and the other 2 as non-paired cards)."
   ]
  },
  {
   "cell_type": "markdown",
   "metadata": {},
   "source": [
    "Total 3 of a kind hands with a joker: $$C(13, 1) * C(4, 2) * C(12, 2) * C(4, 1)^2$$\n",
    "Total 3 of a kind hands without a joker: $$C(13, 1) * C(4, 2) * C(12, 2) * C(4, 1)^2$$\n",
    "\n",
    "$C(13, 1)$ - Choose card for 3 of kind\n",
    "\n",
    "$C(12, 2)$ - Choose two remaining cards which cannot match each other or original card\n",
    "\n",
    "$C(4, 2)$ - Choose the 2 suits of 4 for our original cards\n",
    "\n",
    "$C(4, 1)$ - Choose the remaining two cards suits, one C(4, 1) each\n",
    "\n",
    "Out of C(52, 5) total hands\n",
    "\n",
    "$$\\frac{C(13, 1) * C(4, 2) * C(12, 2) * C(4, 1)^2 + C(13, 1) * C(4, 2) * C(12, 2) * C(4, 1)^2}{C(53, 5)} = ~4.7\\%$$"
   ]
  },
  {
   "cell_type": "markdown",
   "metadata": {},
   "source": [
    "**Part C:**\n",
    "\n",
    "Write a simulation that draws a hand of 5 cards from a standard 52-card deck.  Repeat this simulation 10000 times, and report how many \"3 of a kind\" hands were observed.  Verify that the result is consistent with your answer to part A."
   ]
  },
  {
   "cell_type": "code",
   "execution_count": 2,
   "metadata": {},
   "outputs": [
    {
     "name": "stdout",
     "output_type": "stream",
     "text": [
      "Chance of 3 of a kind hand: 2.12%\n"
     ]
    }
   ],
   "source": [
    "import random, itertools\n",
    "nums = list(\"A23456789JQK\")\n",
    "nums.insert(9, \"10\")\n",
    "suits = list(\"CDHS\")\n",
    "\n",
    "cards = list(itertools.product(nums, suits))\n",
    "# Assumption: question states `card faces [A,2,3,4,5,6,7,8,9,10,J,Q,K]` meaning all numbers and letters are \"faces\" even though I consider faces to mean JQK\n",
    "def simulate():\n",
    "    s = [n for n, s in random.sample(cards, 5)]\n",
    "    d = False\n",
    "    for n in nums:\n",
    "        if s.count(n) == 2:\n",
    "            return False\n",
    "        if s.count(n) == 3:\n",
    "            d = True\n",
    "            \n",
    "    return d\n",
    "\n",
    "sims = [simulate() for x in range(100000)]\n",
    "print(f\"Chance of 3 of a kind hand: {sum(sims)/len(sims)*100:.2f}%\")"
   ]
  },
  {
   "cell_type": "markdown",
   "metadata": {},
   "source": [
    "**Part D:**\n",
    "\n",
    "Write a simulation that draws a hand of 5 cards from a standard 52-card deck where one \"Joker\" card has been added.  Repeat this simulation 10000 times, and report how many \"3 of a kind\" hands were observed.   Verify that the result is consistent with your answer to part B."
   ]
  },
  {
   "cell_type": "code",
   "execution_count": 3,
   "metadata": {},
   "outputs": [
    {
     "name": "stdout",
     "output_type": "stream",
     "text": [
      "Chance of 3 of a kind hand with joker: 4.92%\n"
     ]
    }
   ],
   "source": [
    "nums = list(\"A23456789JQK\")\n",
    "nums.insert(9, \"10\")\n",
    "suits = list(\"CDHS\")\n",
    "\n",
    "jcards = list(itertools.product(nums, suits)) + [(\"Joker\", None)]\n",
    "\n",
    "def simulate():\n",
    "    s = [n for n, s in random.sample(jcards, 5)]\n",
    "    d = False\n",
    "    for n in nums:\n",
    "        if s.count(n) + s.count(\"Joker\") == 3:\n",
    "            if d:\n",
    "                return False\n",
    "            else:\n",
    "                d = True\n",
    "        \n",
    "    return d\n",
    "\n",
    "sims = [simulate() for x in range(100000)]\n",
    "print(f\"Chance of 3 of a kind hand with joker: {sum(sims)/len(sims)*100:.2f}%\")"
   ]
  },
  {
   "cell_type": "markdown",
   "metadata": {},
   "source": [
    "**Part E:**\n",
    "\n",
    "Write a simulation that draws a hand of 5 cards from a standard 52-card deck with four \"Joker\" cards added.  Repeat this simulation 10000 times, and report how many \"3 of a kind\" hands were observed. (NB: 3 unpaired cards and 2 Jokers is the new case of \"3 of a kind\".)"
   ]
  },
  {
   "cell_type": "code",
   "execution_count": 4,
   "metadata": {},
   "outputs": [
    {
     "name": "stdout",
     "output_type": "stream",
     "text": [
      "Chance of 3 of a kind hand with 4 jokers: 10.73%\n"
     ]
    }
   ],
   "source": [
    "nums = list(\"A23456789JQK\")\n",
    "nums.insert(9, \"10\")\n",
    "suits = list(\"CDHS\")\n",
    "\n",
    "jcards = list(itertools.product(nums, suits)) + [(\"Joker\", None)] * 4\n",
    "\n",
    "def simulate():\n",
    "    s = [n for n, s in random.sample(jcards, 5)]\n",
    "    d = False\n",
    "    for n in nums:\n",
    "        if s.count(n) == 3 and s.count(\"Joker\") == 0:\n",
    "            return True\n",
    "        if s.count(n) + s.count(\"Joker\") == 3:\n",
    "            if d:\n",
    "                return False\n",
    "            else:\n",
    "                d = True\n",
    "\n",
    "    return d\n",
    "\n",
    "sims = [simulate() for x in range(100000)]\n",
    "print(f\"Chance of 3 of a kind hand with 4 jokers: {sum(sims)/len(sims)*100:.2f}%\")"
   ]
  },
  {
   "attachments": {
    "image.png": {
     "image/png": "[encoded data removed]"
    }
   },
   "cell_type": "markdown",
   "metadata": {},
   "source": [
    "[Back to top](#top)\n",
    "\n",
    "<a id='p3'></a>\n",
    "\n",
    "## (40 pts) Problem 3: Simulation\n",
    "*** \n",
    "\n",
    "In this problem you will write some code to simulate the movement of budding Data Scientist Skyler - founder of infamous Skynet - as they navigate their way through the Engineering Center Lobby between classes.  Skyler has 10 minutes to navigate the labryinthine space below:\n",
    "\n",
    "![image.png](attachment:image.png)\n",
    "\n",
    "Skyler starts at the bottom left (SW) corner, a square we will refer to as $(0,0)$, and is trying to reach their next class in the top right (or NE) corner, a square at (4,6) using a standard cartesian system.\n",
    "\n",
    "Skyler, unfortunately, is very disoriented and their movement is partly random.  1/3 of the time Skyler will try to walk North; 1/3 of the time Skyler will try to walk East, and the rest of the time Skyler will split evenly between South and West.\n",
    "\n",
    "Your goal is to figure out what the probability is that Skyler makes it to (4,6) before running out of time, with the following hazards:\n",
    "\n",
    " - Skyler walks at a standard rate of 10 seconds per tile.  If Skyler walks into one of the dark-shaded walls or pillars, they remain where they started, but it still takes 10 seconds.\n",
    "\n",
    " - Someone spilled a foul-smelling energy drink at (2,1).  If Skyler moves into the tile in (2,1), they are completely grossed out.  They move back to the start at (0,0) and spend a little time cleaning their shoes, losing 60 additional seconds beyond the time to originally move into (2,1).\n",
    " \n",
    " - Skyler's data science professor is drinking coffee at (2,3), and Skyler hasn't turned in their homework for a week and a half.  If Skyler walks to that tile, they suffer through some tedious conversation and then shuffle *backwards* from where they came by an extra tile, so if they encountered the professor in a movement from (1,3) to (2,3) they would recoil back to (0,3).  This entire process takes 90 seconds, including all movement.\n",
    " \n",
    " - Skyler's best friend and coding collaborator is at (0,6).  Should Skyler walk there, they will engage in a lengthy conversation, taking 120 seconds, including all movement.\n",
    "\n",
    "\n",
    "\n",
    "<br>\n",
    "\n",
    "**Part A**: Complete the function sky_step below. The function should simulate one step of Skyler's.  It should take as arguments the Skyler's current location on the board as well as the the time elapses, and return Skyler's new location and time elapses after the movement has completed. Note that if Skyler runs out of time, you should return 310 and not any additional wasted time."
   ]
  },
  {
   "cell_type": "code",
   "execution_count": 13,
   "metadata": {},
   "outputs": [],
   "source": [
    "import random\n",
    "import numpy as np\n",
    "\n",
    "# NOTE: I assume 310 is a typo and 600 seconds is the real time\n",
    "\n",
    "def sky_step(location, time):\n",
    "    r = random.choice([(-1, 0), (0, -1), (1, 0), (1, 0), (0, 1), (0, 1)])\n",
    "    nl = np.array(location) + np.array(r)\n",
    "\n",
    "    if nl[0] < 0 or nl[1] < 0 or nl[0] > 4 or nl[1] > 6 or (tuple(nl) in [(1,1), (2,2), (0, 5), (4, 5)]):\n",
    "        time += 10\n",
    "        return location, time\n",
    "    \n",
    "    if tuple(nl) == (2, 1):\n",
    "        return (0, 0), min(time + 70, 600)\n",
    "    if tuple(nl) == (2,3):\n",
    "        return tuple(nl - 2 * np.array(r)), min(time + 90, 600)\n",
    "    if tuple(nl) == (0, 6):\n",
    "        return tuple(nl), min(time + 120, 600)\n",
    "    \n",
    "    time += 10\n",
    "    \n",
    "    return tuple(nl), time"
   ]
  },
  {
   "cell_type": "markdown",
   "metadata": {},
   "source": [
    "**Part B**: Use your function from **Part A** to simulate at least 10000 of Skyler's 10-minute trips through the Engineering Lobby and make a frequency histogram of the Skyler's time elapsed at the end of your simulation (including instances where they did not make it in time)."
   ]
  },
  {
   "cell_type": "code",
   "execution_count": 14,
   "metadata": {},
   "outputs": [
    {
     "name": "stdout",
     "output_type": "stream",
     "text": [
      "100\n",
      "0.4414 0.5586\n"
     ]
    }
   ],
   "source": [
    "p, f = 0, 0\n",
    "\n",
    "ftime = []\n",
    "n = 10000\n",
    "for i in range(n):\n",
    "    time = 0\n",
    "    location = (0, 0)\n",
    "    while (time < 600 and location != (4, 6)):\n",
    "        # print(location, time)\n",
    "        location, time = sky_step(location, time)\n",
    "    if location == (4, 6):\n",
    "        p += 1\n",
    "    else:\n",
    "        f += 1\n",
    "    ftime.append(time)\n",
    "    \n",
    "print(min(ftime))\n",
    "ftime = np.array(ftime)\n",
    "print(p / n, f / n)"
   ]
  },
  {
   "cell_type": "code",
   "execution_count": 15,
   "metadata": {},
   "outputs": [
    {
     "data": {
      "text/plain": [
       "(array([  56.,  220.,  340.,  422.,  505.,  557.,  604.,  550.,  527.,\n",
       "        6219.]),\n",
       " array([100., 150., 200., 250., 300., 350., 400., 450., 500., 550., 600.]),\n",
       " <BarContainer object of 10 artists>)"
      ]
     },
     "execution_count": 15,
     "metadata": {},
     "output_type": "execute_result"
    },
    {
     "data": {
      "image/png": "[encoded data removed]",
      "text/plain": [
       "<Figure size 432x288 with 1 Axes>"
      ]
     },
     "metadata": {
      "needs_background": "light"
     },
     "output_type": "display_data"
    }
   ],
   "source": [
    "plt.hist(ftime)"
   ]
  },
  {
   "cell_type": "markdown",
   "metadata": {},
   "source": [
    "**Part C**: Use your code from **Part A** to estimate the probability that Skyler makes it to class on time."
   ]
  },
  {
   "cell_type": "code",
   "execution_count": 16,
   "metadata": {},
   "outputs": [
    {
     "name": "stdout",
     "output_type": "stream",
     "text": [
      "The probability of being on time is 44.14%\n"
     ]
    }
   ],
   "source": [
    "print(f\"The probability of being on time is {p/n*100:.2f}%\")"
   ]
  },
  {
   "cell_type": "markdown",
   "metadata": {},
   "source": [
    "**Part D**: Use your code from **Part A** to estimate the probability that Skyler makes it to class on time _given_ that they talked to their Data Science professor.  Is Skyler more or less likely to make it on time if they talk to their Data Science Professor?"
   ]
  },
  {
   "cell_type": "markdown",
   "metadata": {},
   "source": [
    "Less likely to make it since it not only sends them back it also wastes a significant amount of time."
   ]
  },
  {
   "cell_type": "code",
   "execution_count": 17,
   "metadata": {},
   "outputs": [
    {
     "name": "stdout",
     "output_type": "stream",
     "text": [
      "The probability of talking to the DS professor is 49.84%\n",
      "The probability of being on given having talked to the DS professor is 16.85%\n"
     ]
    }
   ],
   "source": [
    "def sky_step(location, time, ttp):\n",
    "    r = random.choice([(-1, 0), (0, -1), (1, 0), (1, 0), (0, 1), (0, 1)])\n",
    "    nl = np.array(location) + np.array(r)\n",
    "\n",
    "    if nl[0] < 0 or nl[1] < 0 or nl[0] > 4 or nl[1] > 6 or (tuple(nl) in [(1,1), (2,2), (0, 5), (4, 5)]):\n",
    "        time += 10\n",
    "        return location, time, ttp\n",
    "    \n",
    "    if tuple(nl) == (2, 1):\n",
    "        return (0, 0), min(time + 70, 610), ttp\n",
    "    if tuple(nl) == (2,3):\n",
    "        return tuple(nl - 2 * np.array(r)), min(time + 90, 600), True\n",
    "    if tuple(nl) == (0, 6):\n",
    "        return tuple(nl), min(time + 120, 600), ttp\n",
    "    \n",
    "    time += 10\n",
    "\n",
    "    return tuple(nl), time, ttp\n",
    "\n",
    "c, ds = 0, 0\n",
    "\n",
    "for i in range(n):\n",
    "    time = 0\n",
    "    location = (0, 0)\n",
    "    ttp = False\n",
    "    while (time < 600 and location != (4, 6)):\n",
    "        # print(location, time)\n",
    "        location, time, ttp = sky_step(location, time, ttp)\n",
    "    if ttp:\n",
    "        if location == (4, 6):\n",
    "            c += 1\n",
    "        ds += 1\n",
    "    \n",
    "print(f\"The probability of talking to the DS professor is {ds/n*100:.2f}%\")\n",
    "print(f\"The probability of being on given having talked to the DS professor is {c/n*100:.2f}%\")"
   ]
  },
  {
   "cell_type": "markdown",
   "metadata": {},
   "source": [
    "**Part E**: Use your code from **Part A** to estimate the probability (either directly or using Bayes' Rule) that Skyler talked to their Data Science professor, given that Skyler made it to class on time."
   ]
  },
  {
   "cell_type": "code",
   "execution_count": 18,
   "metadata": {},
   "outputs": [
    {
     "name": "stdout",
     "output_type": "stream",
     "text": [
      "The probability of talking to the professor given making it to class on time is 14.92%\n"
     ]
    }
   ],
   "source": [
    "#P(A|B) = P(B|A)P(A)/P(B)\n",
    "#P(D|C) = P(C|D)P(C)/P(D)\n",
    "#P(D) = ds/n\n",
    "#P(C|D) = c/n\n",
    "#P(C) = p/n\n",
    "\n",
    "print(f\"The probability of talking to the professor given making it to class on time is {c/n * p / ds * 100:.2f}%\")"
   ]
  },
  {
   "cell_type": "markdown",
   "metadata": {},
   "source": [
    "As expected, the chance of having talked to the DS professor is lower when Skyler has made it to class on time"
   ]
  },
  {
   "cell_type": "markdown",
   "metadata": {},
   "source": []
  },
  {
   "cell_type": "code",
   "execution_count": null,
   "metadata": {},
   "outputs": [],
   "source": []
  },
  {
   "cell_type": "code",
   "execution_count": null,
   "metadata": {},
   "outputs": [],
   "source": []
  },
  {
   "cell_type": "code",
   "execution_count": null,
   "metadata": {},
   "outputs": [],
   "source": []
  },
  {
   "cell_type": "code",
   "execution_count": null,
   "metadata": {},
   "outputs": [],
   "source": []
  },
  {
   "cell_type": "code",
   "execution_count": null,
   "metadata": {},
   "outputs": [],
   "source": []
  }
 ],
 "metadata": {
  "kernelspec": {
   "display_name": "Python 3",
   "language": "python",
   "name": "python3"
  },
  "language_info": {
   "codemirror_mode": {
    "name": "ipython",
    "version": 3
   },
   "file_extension": ".py",
   "mimetype": "text/x-python",
   "name": "python",
   "nbconvert_exporter": "python",
   "pygments_lexer": "ipython3",
   "version": "3.8.5"
  }
 },
 "nbformat": 4,
 "nbformat_minor": 2
}
