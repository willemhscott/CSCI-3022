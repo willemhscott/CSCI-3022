{
 "cells": [
  {
   "cell_type": "markdown",
   "metadata": {},
   "source": [
    "<a id='top'></a>\n",
    "\n",
    "# CSCI3022 F20\n",
    "# Homework 1: Data Cleaning and Exploratory Data Analysis \n",
    "***\n",
    "\n",
    "**Name**: Willem Scott\n",
    "\n",
    "***\n",
    "\n",
    "This assignment is due on Canvas by **MIDNIGHT on Friday September 4**. Your solutions to theoretical questions should be done in Markdown directly below the associated question.  Your solutions to computational questions should include any specified Python code and results as well as written commentary on your conclusions.  Remember that you are encouraged to discuss the problems with your classmates, but **you must write all code and solutions on your own**.\n",
    "\n",
    "**NOTES**: \n",
    "\n",
    "- Any relevant data sets should be available on Canvas. To make life easier on the graders if they need to run your code, do not change the relative path names here. Instead, move the files around on your computer.\n",
    "- If you're not familiar with typesetting math directly into Markdown then by all means, do your work on paper first and then typeset it later.  Remember that there is a [reference guide](https://math.meta.stackexchange.com/questions/5020/mathjax-basic-tutorial-and-quick-reference) linked on Canvas on writing math in Markdown. **All** of your written commentary, justifications and mathematical work should be in Markdown.\n",
    "- Because you can technically evaluate notebook cells is a non-linear order, it's a good idea to do Kernel $\\rightarrow$ Restart & Run All as a check before submitting your solutions.  That way if we need to run your code you will know that it will work as expected. \n",
    "- It is **bad form** to make your reader interpret numerical output from your code.  If a question asks you to compute some value from the data you should show your code output **AND** write a summary of the results in Markdown directly below your code. \n",
    "- 95 points of this assignment are in problems.  The remaining 5 are for neatness, style, and overall exposition of both code and text.\n",
    "- This probably goes without saying, but... For any question that asks you to calculate something, you **must show all work and justify your answers to receive credit**. Sparse or nonexistent work will receive sparse or nonexistent credit. \n",
    "\n",
    "---\n",
    "**Shortcuts:**  [Problem 1](#p1) | [Problem 2](#p2) | [Problem 3](#p3) | [Problem 4](#p4) |\n",
    "---"
   ]
  },
  {
   "cell_type": "code",
   "execution_count": 1,
   "metadata": {},
   "outputs": [],
   "source": [
    "import sys\n",
    "import pandas as pd\n",
    "import numpy as np\n",
    "import matplotlib.pylab as plt\n",
    "%matplotlib inline"
   ]
  },
  {
   "cell_type": "markdown",
   "metadata": {},
   "source": [
    "[Back to top](#top)\n",
    "\n",
    "<br>\n",
    "\n",
    "<a/ id='p1'></a>\n",
    "\n",
    "### (20 points) Problem 1: Theory (Sampling)\n",
    "***\n",
    "\n",
    "<img style=\"float: left; width: 200px; padding: 3mm;\" src=\"https://upload.wikimedia.org/wikipedia/commons/5/57/Acme_ballot_box_-_Smithsonian.jpg\" alt=\"A ballot box\"/>  \n",
    "You are the head of a news outlet on election day. You have embedded journalists in key U.S. States in order sample voters at different polling stations in the states. Once your journalists choose a polling station, they monitor the station for the election day. The journalists then report back the number of votes for each candidate, which is recorded in a special App on your phone, called Hippocampus. Overall, your team collected data from 6 polling stations in Alaska, 36 polling stations in Ohio, 12 polling stations in Colorado, 6 polling stations in Iowa, and 42 polling stations from California.\n",
    "\n",
    "You want to get a sense of the average amount of votes for each candidate per polling station, so you use the Hippocampus app to randomly choose 1 polling station in Alaska, 6 polling stations in Ohio, 2 polling stations in Colorado, 1 polling station in Iowa, and 7 polling stations from California.\n",
    "\n",
    "$$ \\quad $$\n",
    "    \n",
    "**Part A:** Identify the following: \n",
    "\n",
    "- the population \n",
    "- the sample frame \n",
    "- the sample \n",
    "- the type of sample \n",
    "- the quantity of interest"
   ]
  },
  {
   "cell_type": "markdown",
   "metadata": {},
   "source": [
    "Population: All voters from polling stations across the United States\n",
    "\n",
    "Sample Frame: All voters from 6 polling stations in Alaska, 36 polling stations in Ohio, 12 polling stations in Colorado, 6 polling stations in Iowa, and 42 polling stations from California\n",
    "\n",
    "Sample: All voters from 1 polling station in Alaska, 6 polling stations in Ohio, 2 polling stations in Colorado, 1 polling station in Iowa, and 7 polling stations from California\n",
    "\n",
    "Type of Sample: Stratified sampling\n",
    "\n",
    "Quantity of Interest: Number of votes per candidate per polling station"
   ]
  },
  {
   "cell_type": "markdown",
   "metadata": {},
   "source": [
    "**Part B:** You repeat your sampling, again using the Hippocampus app. Now, you order the stations alphabetically by State and choose every 3rd data value.\n",
    "    \n",
    "Identify the following: \n",
    "\n",
    "- the population \n",
    "- the sample frame \n",
    "- the sample \n",
    "- the type of sample \n",
    "- the quantity of interest"
   ]
  },
  {
   "cell_type": "markdown",
   "metadata": {},
   "source": [
    "Population: All voters from polling stations across the United States\n",
    "\n",
    "Sample Frame: All voters from 6 polling stations in Alaska, 36 polling stations in Ohio, 12 polling stations in Colorado, 6 polling stations in Iowa, and 42 polling stations from California\n",
    "\n",
    "Sample: All voters from 2 polling station in Alaska, 12 polling stations in Ohio, 4 polling stations in Colorado, 2 polling station in Iowa, and 14 polling stations from California\n",
    "\n",
    "Type of Sample: Systematic sampling\n",
    "\n",
    "Quantity of Interest: Number of votes per candidate per polling station"
   ]
  },
  {
   "cell_type": "markdown",
   "metadata": {},
   "source": [
    "[Back to top](#top)\n",
    "\n",
    "<br>\n",
    "\n",
    "<a/ id='p2'></a>\n",
    "\n",
    "### (20 points) Problem 2: Theory and Computation (Means and Medians)\n",
    "***\n",
    "\n",
    "A method to investigate the sensitivity of the sample mean and sample median to extreme outliers and changes in the dataset is to replace one or more elements in a given dataset by a number $y$ and investigate the effect when $y$ changes. To illustrate this, consider the following dataset:\n",
    " \n",
    "$$  4.2 \\quad 5.1 \\quad 5.0 \\quad y \\quad 3.8 \\quad 4.1 \\quad 5.5 \\quad 1.9 $$\n",
    "\n",
    "\n"
   ]
  },
  {
   "cell_type": "markdown",
   "metadata": {},
   "source": [
    "**Part A:** Compute the sample mean and sample median for $y=1.5$. Then compute both quantities again for $y=6$."
   ]
  },
  {
   "cell_type": "code",
   "execution_count": 2,
   "metadata": {},
   "outputs": [
    {
     "name": "stdout",
     "output_type": "stream",
     "text": [
      "The median for y = 1.5: 4.15\n",
      "The mean for y = 1.5: 3.8875\n",
      "The median for y = 6: 4.6\n",
      "The mean for y = 6: 4.45\n"
     ]
    }
   ],
   "source": [
    "nums = [4.2, 5.1, 5.0, 3.8, 4.1, 5.5, 1.9]\n",
    "\n",
    "print(\"The median for y = 1.5:\", np.median(nums + [1.5]))\n",
    "print(\"The mean for y = 1.5:\", np.mean(nums + [1.5]))\n",
    "print(\"The median for y = 6:\", np.median(nums + [6]))\n",
    "print(\"The mean for y = 6:\", np.mean(nums + [6]))"
   ]
  },
  {
   "cell_type": "markdown",
   "metadata": {},
   "source": [
    "**Part B:** Is there a value for $y$ that would make the mean of the data equal to 6? If so, calculate the value of $y$ that makes the mean equal to 6. If not, clearly explain why not.\n",
    "    \n",
    "Is there a value for $y$ that would make the median of the data equal to 6? If so, calculate the values of $y$ that makes the median equal to 6. If not, clearly explain why not."
   ]
  },
  {
   "cell_type": "code",
   "execution_count": 3,
   "metadata": {
    "pycharm": {
     "name": "#%%\n"
    }
   },
   "outputs": [
    {
     "name": "stdout",
     "output_type": "stream",
     "text": [
      "The value $y$ that would make the mean of the data equal 6 is: 18.4\n",
      "The value $y$ that would make the median of the data equal 6 does not exist, since 6 is greater than the maximum value, there is no way to make it the median of the dataset without adding additional numbers.\n"
     ]
    }
   ],
   "source": [
    "\n",
    "a = sum(nums)\n",
    "# (a + y) / (len(nums) + 1) = 6\n",
    "# a / (len(nums) + 1) + y / (len(nums) + 1) = 6\n",
    "# 6 - a / (len(nums) + 1) = y / (len(nums) + 1)\n",
    "y1 = 6 * (len(nums) + 1) - a\n",
    "\n",
    "print(\"The value $y$ that would make the mean of the data equal 6 is:\", y1)\n",
    "print(\"The value $y$ that would make the median of the data equal 6 does not exist, since 6 is greater than the maximum value, there is no way to make it the median of the dataset without adding additional numbers.\")\n",
    "\n"
   ]
  },
  {
   "cell_type": "markdown",
   "metadata": {},
   "source": [
    "**Part C**: Compute the sample variance and the sample standard deviation for the original dataset given in part A, with $y=6$."
   ]
  },
  {
   "cell_type": "code",
   "execution_count": 4,
   "metadata": {},
   "outputs": [
    {
     "name": "stdout",
     "output_type": "stream",
     "text": [
      "The sample variance is: 1.62\n",
      "The sample standard deviation is: 1.2727922061357855\n"
     ]
    }
   ],
   "source": [
    "knums = sorted(nums + [6])\n",
    "nmean = np.mean(knums)\n",
    "\n",
    "variance = 1/(len(knums) - 1) * sum((nmean - x) ** 2 for x in knums)\n",
    "stdev = variance ** .5\n",
    "\n",
    "print(\"The sample variance is:\", variance)\n",
    "print(\"The sample standard deviation is:\", stdev)"
   ]
  },
  {
   "cell_type": "markdown",
   "metadata": {},
   "source": [
    "**Part D**: Compute the sample median for the following cases: \n",
    "- $y=5$ \n",
    "- $y=50$ \n",
    "- $y=4.36$ \n",
    "- $y \\to \\infty$ \n",
    "- $y \\to -\\infty$"
   ]
  },
  {
   "cell_type": "code",
   "execution_count": 5,
   "metadata": {},
   "outputs": [
    {
     "name": "stdout",
     "output_type": "stream",
     "text": [
      "Sample median for $y = 5$: 4.6\n",
      "Sample median for $y = 50$: 4.6\n",
      "Sample median for $y = 4.36$: 4.28\n",
      "Sample median for $y \\to \\infty$: 4.6\n",
      "Sample median for $y \\to -\\infty$: 4.15\n"
     ]
    }
   ],
   "source": [
    "print(\"Sample median for $y = 5$:\", np.median(nums + [5]))\n",
    "print(\"Sample median for $y = 50$:\", np.median(nums + [50]))\n",
    "print(\"Sample median for $y = 4.36$:\", np.median(nums + [4.36]))\n",
    "print(\"Sample median for $y \\\\to \\\\infty$:\", np.median(nums + [sys.float_info.max]))\n",
    "print(\"Sample median for $y \\\\to -\\\\infty$:\", np.median(nums + [-sys.float_info.max]))"
   ]
  },
  {
   "cell_type": "markdown",
   "metadata": {},
   "source": [
    "**Part E**: Think about the previous parts, above, and describe in words or mathematical notation the answers to the following two questions:\n",
    "\n",
    "- By varying $y$, what is the set of all the possible values that the sample mean could take on?\n",
    "- By varying $y$, what is the set of all the possible values that the sample median could take on? Specifically, for what sets of $y$ values does the median take on its different possible values?"
   ]
  },
  {
   "cell_type": "markdown",
   "metadata": {},
   "source": [
    "The sample mean can take on any number.\n",
    "The sample median can take on any number between 4.1 and 4.6, given the value of $y$ is between 4.1 and 4.6 inclusive, otherwise the median cannot take on any new value."
   ]
  },
  {
   "cell_type": "markdown",
   "metadata": {},
   "source": [
    "**Part F**: Describe in words or mathematical notation, what happens to the sample standard deviation when $y$ is varied in the following ways: \n",
    " \n",
    "- $y \\to \\infty$ \n",
    "- $y \\to \\bar{x}$"
   ]
  },
  {
   "cell_type": "markdown",
   "metadata": {},
   "source": [
    "When $y \\to \\infty$ the standard deviation also goes to infinity, but when $y \\to \\bar{x}$, then the standard deviation does not change."
   ]
  },
  {
   "cell_type": "markdown",
   "metadata": {},
   "source": [
    "[Back to top](#top)\n",
    "<a/ id='p6'></a>\n",
    "\n",
    "## (20 pts) Problem 3: Computation (Scaling)\n",
    "***\n",
    "Consider the following 3 data sets:\n",
    "\n",
    "`A=[0,1,2,3,4,5,6,7,8,9,10,11,12]`\n",
    "\n",
    "`B=[0,0,0,12,7,18,47,25,0,13,0,35]`\n",
    "\n",
    "`C` is the random data set generated by using `np.random.exponential(scale=43, size=1000)`\n",
    "\n",
    "For each data set, perform the following computations in parts A, B, and C:\n",
    "\n",
    "**Part A:** Compute and print the mean and standard deviation of the data set."
   ]
  },
  {
   "cell_type": "code",
   "execution_count": 6,
   "metadata": {},
   "outputs": [
    {
     "name": "stdout",
     "output_type": "stream",
     "text": [
      "The mean for dataset A is: 6.00\n",
      "The mean for dataset B is: 13.08\n",
      "The mean for dataset C is: 42.38\n",
      "The standard deviation for dataset A is: 3.74\n",
      "The standard deviation for dataset B is: 14.97\n",
      "The standard deviation for dataset C is: 40.48\n"
     ]
    }
   ],
   "source": [
    "A=np.array([0,1,2,3,4,5,6,7,8,9,10,11,12]) # I think its funny that we're told what these variables are but they're never defined\n",
    "B=np.array([0,0,0,12,7,18,47,25,0,13,0,35])\n",
    "C=np.random.exponential(scale=43, size=1000)\n",
    "# print(\"A:\", A)\n",
    "# print(\"B:\", B)\n",
    "# print(\"C:\", C)\n",
    "\n",
    "print(f\"The mean for dataset A is: {np.mean(A):.2f}\",)\n",
    "print(f\"The mean for dataset B is: {np.mean(B):.2f}\")\n",
    "print(f\"The mean for dataset C is: {np.mean(C):.2f}\")\n",
    "\n",
    "print(f\"The standard deviation for dataset A is: {np.std(A):.2f}\",)\n",
    "print(f\"The standard deviation for dataset B is: {np.std(B):.2f}\",)\n",
    "print(f\"The standard deviation for dataset C is: {np.std(C):.2f}\",)"
   ]
  },
  {
   "cell_type": "markdown",
   "metadata": {},
   "source": [
    "**Part B:** Compute and print the mean and standard deviation of the new data set formed by subtracting the original mean from each observation."
   ]
  },
  {
   "cell_type": "code",
   "execution_count": 7,
   "metadata": {},
   "outputs": [
    {
     "name": "stdout",
     "output_type": "stream",
     "text": [
      "The mean for dataset A is: 0.00\n",
      "The mean for dataset B is: -0.00\n",
      "The mean for dataset C is: 0.00\n",
      "The standard deviation for dataset A is: 3.74\n",
      "The standard deviation for dataset B is: 14.97\n",
      "The standard deviation for dataset C is: 40.48\n"
     ]
    }
   ],
   "source": [
    "print(f\"The mean for dataset A is: {np.mean(A - np.mean(A)):.2f}\",)\n",
    "print(f\"The mean for dataset B is: {np.mean(B - np.mean(B)):.2f}\")\n",
    "print(f\"The mean for dataset C is: {np.mean(C - np.mean(C)):.2f}\")\n",
    "\n",
    "print(f\"The standard deviation for dataset A is: {np.std(A - np.mean(A)):.2f}\",)\n",
    "print(f\"The standard deviation for dataset B is: {np.std(B - np.mean(B)):.2f}\",)\n",
    "print(f\"The standard deviation for dataset C is: {np.std(C - np.mean(C)):.2f}\",)"
   ]
  },
  {
   "cell_type": "markdown",
   "metadata": {},
   "source": [
    "**Part C:** Compute and print  the mean and standard deviation of the new data set formed by subtracting the original mean from each observation and then dividing by the original standard deviation."
   ]
  },
  {
   "cell_type": "code",
   "execution_count": 8,
   "metadata": {},
   "outputs": [
    {
     "name": "stdout",
     "output_type": "stream",
     "text": [
      "The mean for dataset A is: -0.00\n",
      "The mean for dataset B is: -0.00\n",
      "The mean for dataset C is: 0.00\n",
      "The standard deviation for dataset A is: 1.00\n",
      "The standard deviation for dataset B is: 1.00\n",
      "The standard deviation for dataset C is: 1.00\n"
     ]
    }
   ],
   "source": [
    "print(f\"The mean for dataset A is: {np.mean((A - np.mean(A))/np.std(A)):.2f}\",)\n",
    "print(f\"The mean for dataset B is: {np.mean((B - np.mean(B))/np.std(B)):.2f}\",)\n",
    "print(f\"The mean for dataset C is: {np.mean((C - np.mean(C))/np.std(C)):.2f}\",)\n",
    "\n",
    "print(f\"The standard deviation for dataset A is: {np.std((A - np.mean(A))/np.std(A)):.2f}\",)\n",
    "print(f\"The standard deviation for dataset B is: {np.std((B - np.mean(B))/np.std(B)):.2f}\",)\n",
    "print(f\"The standard deviation for dataset C is: {np.std((C - np.mean(C))/np.std(C)):.2f}\",)"
   ]
  },
  {
   "cell_type": "markdown",
   "metadata": {},
   "source": [
    "**Part D:** Why might this result matter?"
   ]
  },
  {
   "cell_type": "markdown",
   "metadata": {},
   "source": [
    "We can use these methods to normalize a dataset to generate a chosen mean or standard deviation"
   ]
  },
  {
   "cell_type": "markdown",
   "metadata": {},
   "source": [
    "**Part E:** Looking at each of the 3 data sets, come up with a real-world context where those kind of numbers might make for reasonable observations."
   ]
  },
  {
   "cell_type": "markdown",
   "metadata": {},
   "source": [
    "A: 12 most commonly chosen numbers for numbering a 12 question quiz\n",
    "\n",
    "B: Test scores for Computer Systems\n",
    "\n",
    "C: Population growth over 1000 years (in thousands)"
   ]
  },
  {
   "cell_type": "markdown",
   "metadata": {},
   "source": [
    "[Back to top](#top)\n",
    "<a/ id='p4'></a>\n",
    "\n",
    "## (35 pts) Problem 4: Data (monthly patterns)\n",
    "***\n",
    "\n",
    "NOAA's Physical Sciences division (https://www.esrl.noaa.gov/psd) houses an enormous amount of weather data.  Load `BoulderPrecip.csv` from the course page for the last 120 years of monthly precipitation data from Boulder.  Let's take a look!"
   ]
  },
  {
   "cell_type": "code",
   "execution_count": 9,
   "metadata": {},
   "outputs": [
    {
     "data": {
      "text/plain": "   Year   JAN   FEB   MAR   APR   MAY   JUN   JUL   AUG   SEP   OCT   NOV  \\\n0  1900   0.4  1.06  0.75  9.18  1.84  0.49  0.48  0.22  1.54  0.13  0.19   \n1  1901  0.53   0.3  1.74  3.51  1.62  1.76  0.46  1.69  0.16  0.65    Tr   \n2  1902  0.37  0.48  1.48  1.01  2.32  1.46  1.26  0.53  5.46  1.44  1.29   \n3  1903  0.08  1.52  1.45  2.31  2.02  1.87  0.95  1.46  1.31  3.43  0.15   \n4  1904  0.09  0.31  2.37  1.45  5.35  2.72  1.05  1.00   1.6  1.06  0.08   \n\n    DEC YEAR TOTAL  \n0  0.61      16.89  \n1  1.43      13.85  \n2  1.34      18.44  \n3  0.16      16.71  \n4   0.7      17.78  ",
      "text/html": "<div>\n<style scoped>\n    .dataframe tbody tr th:only-of-type {\n        vertical-align: middle;\n    }\n\n    .dataframe tbody tr th {\n        vertical-align: top;\n    }\n\n    .dataframe thead th {\n        text-align: right;\n    }\n</style>\n<table border=\"1\" class=\"dataframe\">\n  <thead>\n    <tr style=\"text-align: right;\">\n      <th></th>\n      <th>Year</th>\n      <th>JAN</th>\n      <th>FEB</th>\n      <th>MAR</th>\n      <th>APR</th>\n      <th>MAY</th>\n      <th>JUN</th>\n      <th>JUL</th>\n      <th>AUG</th>\n      <th>SEP</th>\n      <th>OCT</th>\n      <th>NOV</th>\n      <th>DEC</th>\n      <th>YEAR TOTAL</th>\n    </tr>\n  </thead>\n  <tbody>\n    <tr>\n      <th>0</th>\n      <td>1900</td>\n      <td>0.4</td>\n      <td>1.06</td>\n      <td>0.75</td>\n      <td>9.18</td>\n      <td>1.84</td>\n      <td>0.49</td>\n      <td>0.48</td>\n      <td>0.22</td>\n      <td>1.54</td>\n      <td>0.13</td>\n      <td>0.19</td>\n      <td>0.61</td>\n      <td>16.89</td>\n    </tr>\n    <tr>\n      <th>1</th>\n      <td>1901</td>\n      <td>0.53</td>\n      <td>0.3</td>\n      <td>1.74</td>\n      <td>3.51</td>\n      <td>1.62</td>\n      <td>1.76</td>\n      <td>0.46</td>\n      <td>1.69</td>\n      <td>0.16</td>\n      <td>0.65</td>\n      <td>Tr</td>\n      <td>1.43</td>\n      <td>13.85</td>\n    </tr>\n    <tr>\n      <th>2</th>\n      <td>1902</td>\n      <td>0.37</td>\n      <td>0.48</td>\n      <td>1.48</td>\n      <td>1.01</td>\n      <td>2.32</td>\n      <td>1.46</td>\n      <td>1.26</td>\n      <td>0.53</td>\n      <td>5.46</td>\n      <td>1.44</td>\n      <td>1.29</td>\n      <td>1.34</td>\n      <td>18.44</td>\n    </tr>\n    <tr>\n      <th>3</th>\n      <td>1903</td>\n      <td>0.08</td>\n      <td>1.52</td>\n      <td>1.45</td>\n      <td>2.31</td>\n      <td>2.02</td>\n      <td>1.87</td>\n      <td>0.95</td>\n      <td>1.46</td>\n      <td>1.31</td>\n      <td>3.43</td>\n      <td>0.15</td>\n      <td>0.16</td>\n      <td>16.71</td>\n    </tr>\n    <tr>\n      <th>4</th>\n      <td>1904</td>\n      <td>0.09</td>\n      <td>0.31</td>\n      <td>2.37</td>\n      <td>1.45</td>\n      <td>5.35</td>\n      <td>2.72</td>\n      <td>1.05</td>\n      <td>1.00</td>\n      <td>1.6</td>\n      <td>1.06</td>\n      <td>0.08</td>\n      <td>0.7</td>\n      <td>17.78</td>\n    </tr>\n  </tbody>\n</table>\n</div>"
     },
     "execution_count": 9,
     "metadata": {},
     "output_type": "execute_result"
    }
   ],
   "source": [
    "dfPrecip = pd.read_csv('../Data/BoulderPrecip.csv')\n",
    "dfPrecip.head()\n"
   ]
  },
  {
   "cell_type": "markdown",
   "metadata": {},
   "source": [
    "**Part A:** SCRUBBING!  Our data set is going to be tough to use for a few reasons.\n",
    "\n",
    "1) When the amount of precipitation was nonzero but too small to be recorded, this data set recorded `tr`.  Replace these with zeroes.\n",
    "\n",
    "2) 2020 isn't over yet!  We have one row at the bottom that isn't fully complete and NA values have been filled into the months that haven't happened yet.  This can wreak havoc on a lot of our methods!  Drop the 2020 data entirely.\n",
    "\n",
    "3) You may have some object typing issues relating to columns that contained both \"Tr\"/\"NA\" and numeric values.  Ensure that Python is treating all of your data as numeric!"
   ]
  },
  {
   "cell_type": "code",
   "execution_count": 10,
   "metadata": {},
   "outputs": [
    {
     "data": {
      "text/plain": "     Year   JAN   FEB   MAR   APR   MAY   JUN   JUL   AUG   SEP   OCT   NOV  \\\n0  1900.0  0.40  1.06  0.75  9.18  1.84  0.49  0.48  0.22  1.54  0.13  0.19   \n1  1901.0  0.53  0.30  1.74  3.51  1.62  1.76  0.46  1.69  0.16  0.65  0.00   \n2  1902.0  0.37  0.48  1.48  1.01  2.32  1.46  1.26  0.53  5.46  1.44  1.29   \n3  1903.0  0.08  1.52  1.45  2.31  2.02  1.87  0.95  1.46  1.31  3.43  0.15   \n4  1904.0  0.09  0.31  2.37  1.45  5.35  2.72  1.05  1.00  1.60  1.06  0.08   \n\n    DEC  YEAR TOTAL  \n0  0.61       16.89  \n1  1.43       13.85  \n2  1.34       18.44  \n3  0.16       16.71  \n4  0.70       17.78  ",
      "text/html": "<div>\n<style scoped>\n    .dataframe tbody tr th:only-of-type {\n        vertical-align: middle;\n    }\n\n    .dataframe tbody tr th {\n        vertical-align: top;\n    }\n\n    .dataframe thead th {\n        text-align: right;\n    }\n</style>\n<table border=\"1\" class=\"dataframe\">\n  <thead>\n    <tr style=\"text-align: right;\">\n      <th></th>\n      <th>Year</th>\n      <th>JAN</th>\n      <th>FEB</th>\n      <th>MAR</th>\n      <th>APR</th>\n      <th>MAY</th>\n      <th>JUN</th>\n      <th>JUL</th>\n      <th>AUG</th>\n      <th>SEP</th>\n      <th>OCT</th>\n      <th>NOV</th>\n      <th>DEC</th>\n      <th>YEAR TOTAL</th>\n    </tr>\n  </thead>\n  <tbody>\n    <tr>\n      <th>0</th>\n      <td>1900.0</td>\n      <td>0.40</td>\n      <td>1.06</td>\n      <td>0.75</td>\n      <td>9.18</td>\n      <td>1.84</td>\n      <td>0.49</td>\n      <td>0.48</td>\n      <td>0.22</td>\n      <td>1.54</td>\n      <td>0.13</td>\n      <td>0.19</td>\n      <td>0.61</td>\n      <td>16.89</td>\n    </tr>\n    <tr>\n      <th>1</th>\n      <td>1901.0</td>\n      <td>0.53</td>\n      <td>0.30</td>\n      <td>1.74</td>\n      <td>3.51</td>\n      <td>1.62</td>\n      <td>1.76</td>\n      <td>0.46</td>\n      <td>1.69</td>\n      <td>0.16</td>\n      <td>0.65</td>\n      <td>0.00</td>\n      <td>1.43</td>\n      <td>13.85</td>\n    </tr>\n    <tr>\n      <th>2</th>\n      <td>1902.0</td>\n      <td>0.37</td>\n      <td>0.48</td>\n      <td>1.48</td>\n      <td>1.01</td>\n      <td>2.32</td>\n      <td>1.46</td>\n      <td>1.26</td>\n      <td>0.53</td>\n      <td>5.46</td>\n      <td>1.44</td>\n      <td>1.29</td>\n      <td>1.34</td>\n      <td>18.44</td>\n    </tr>\n    <tr>\n      <th>3</th>\n      <td>1903.0</td>\n      <td>0.08</td>\n      <td>1.52</td>\n      <td>1.45</td>\n      <td>2.31</td>\n      <td>2.02</td>\n      <td>1.87</td>\n      <td>0.95</td>\n      <td>1.46</td>\n      <td>1.31</td>\n      <td>3.43</td>\n      <td>0.15</td>\n      <td>0.16</td>\n      <td>16.71</td>\n    </tr>\n    <tr>\n      <th>4</th>\n      <td>1904.0</td>\n      <td>0.09</td>\n      <td>0.31</td>\n      <td>2.37</td>\n      <td>1.45</td>\n      <td>5.35</td>\n      <td>2.72</td>\n      <td>1.05</td>\n      <td>1.00</td>\n      <td>1.60</td>\n      <td>1.06</td>\n      <td>0.08</td>\n      <td>0.70</td>\n      <td>17.78</td>\n    </tr>\n  </tbody>\n</table>\n</div>"
     },
     "execution_count": 10,
     "metadata": {},
     "output_type": "execute_result"
    }
   ],
   "source": [
    "def conv(arg):\n",
    "    try:\n",
    "        return float(arg)\n",
    "    except:\n",
    "        return 0\n",
    "\n",
    "def crow(r):\n",
    "    return r.apply(conv)\n",
    "\n",
    "dfPrecip = dfPrecip.drop([120])\n",
    "dfPrecip = dfPrecip.apply(crow)\n",
    "dfPrecip.head()"
   ]
  },
  {
   "cell_type": "markdown",
   "metadata": {},
   "source": [
    "**Part B:** Generate a series of 12 box plots with month as the x axis and precipitation on the y-axis."
   ]
  },
  {
   "cell_type": "code",
   "execution_count": 11,
   "metadata": {},
   "outputs": [
    {
     "data": {
      "text/plain": "<AxesSubplot:>"
     },
     "execution_count": 11,
     "metadata": {},
     "output_type": "execute_result"
    },
    {
     "data": {
      "text/plain": "<Figure size 432x288 with 1 Axes>",
      "image/png": "[encoded data removed]"
     },
     "metadata": {
      "needs_background": "light"
     },
     "output_type": "display_data"
    }
   ],
   "source": [
    "dfPrecip.boxplot(\n",
    "    column=[\"JAN\", \"FEB\", \"MAR\", \"APR\", \"MAY\", \"JUN\", \"JUL\", \"AUG\", \"SEP\", \"OCT\", \"NOV\", \"DEC\"],\n",
    ")\n"
   ]
  },
  {
   "cell_type": "markdown",
   "metadata": {},
   "source": [
    "\n",
    "**Part C:** Spring is the wet season in Boulder.   But what is Spring?\n",
    "\n",
    "Atmospheric scientists love to group months seasonally, breaking the year into a Winter season including December, January, February; a Spring including March, April, and May; and so forth.\n",
    "\n",
    "The solar year, however, says that Spring runs from near the end of March until near the end of June: let's round at the nearest month and say that it includes the months of April, May and June.\n",
    "\n",
    "Generate a box plot with precipitation on the y-axis and the two possible monthly 'Spring' groupings (March-May versus April-June) as the x-axis."
   ]
  },
  {
   "cell_type": "code",
   "execution_count": 12,
   "metadata": {},
   "outputs": [
    {
     "data": {
      "text/plain": "<AxesSubplot:>"
     },
     "execution_count": 12,
     "metadata": {},
     "output_type": "execute_result"
    },
    {
     "data": {
      "text/plain": "<Figure size 432x288 with 2 Axes>",
      "image/png": "[encoded data removed]"
     },
     "metadata": {
      "needs_background": "light"
     },
     "output_type": "display_data"
    }
   ],
   "source": [
    "figure, axes = plt.subplots(1, 2)\n",
    "nd = pd.DataFrame(dfPrecip[[\"MAR\", \"APR\", \"MAY\"]].sum(), columns=[\"March-May\"])\n",
    "kd = pd.DataFrame(dfPrecip[[\"APR\", \"MAY\", \"JUN\"]].sum(), columns=[\"April-June\"])\n",
    "\n",
    "nd.boxplot(ax=axes[0])\n",
    "kd.boxplot(ax=axes[1])\n",
    "\n",
    "# ndf = pd.DataFrame([nd, kd], columns=[\"March-May\", \"April-June\"])\n",
    "# ndf.boxplot()"
   ]
  },
  {
   "cell_type": "markdown",
   "metadata": {},
   "source": [
    "**Part D:** These might look pretty similar!  Highlight and comment on any differences by calculating the mean, standard deviation, and a Tukey five number summary of each classification of Spring.  Is there a reason here to favor one grouping over the other?"
   ]
  },
  {
   "cell_type": "code",
   "execution_count": 13,
   "metadata": {},
   "outputs": [
    {
     "name": "stdout",
     "output_type": "stream",
     "text": [
      "March-May:\n",
      "Mean: 300.76\n",
      "Standard Deviation: 85.54\n",
      "5-number Summary: 205.81,265.25,324.68,348.23,371.79\n",
      "April-June:\n",
      "Mean: 307.28\n",
      "Standard Deviation: 74.75\n",
      "5-number Summary: 225.36,275.02,324.68,348.23,371.79\n"
     ]
    }
   ],
   "source": [
    "print(\"March-May:\")\n",
    "print(f\"Mean: {float(nd.mean()):.2f}\")\n",
    "print(f\"Standard Deviation: {float(nd.std()):.2f}\")\n",
    "print(\"5-number Summary:\", \",\".join(f\"{float(nd.quantile(p)):.2f}\" for p in [0, .25, .5, .75, 1]))\n",
    "\n",
    "print(\"April-June:\")\n",
    "print(f\"Mean: {float(kd.mean()):.2f}\")\n",
    "print(f\"Standard Deviation: {float(kd.std()):.2f}\")\n",
    "print(\"5-number Summary:\", \",\".join(f\"{float(kd.quantile(p)):.2f}\" for p in [0, .25, .5, .75, 1]))"
   ]
  },
  {
   "cell_type": "markdown",
   "metadata": {},
   "source": [
    "The only considerable reason for why we might want to favor one grouping over the other is that one has a smaller standard deviation, meaning more consistent rainfall over the course of the grouping, whereas the other grouping has marginally more sporadic downfall."
   ]
  },
  {
   "cell_type": "markdown",
   "metadata": {},
   "source": [
    "**Part E:** Create a density histogram of the September precipitation.  Classify and describe this histogram, including discussion of any skewness, multimodality, or outliers.  Find the data point associated with September, 2013, and recreate your histogram with that value in a different color or otherwise clearly marked."
   ]
  },
  {
   "cell_type": "code",
   "execution_count": 14,
   "metadata": {},
   "outputs": [
    {
     "data": {
      "text/plain": "<Figure size 432x288 with 1 Axes>",
      "image/png": "[encoded data removed]"
     },
     "metadata": {
      "needs_background": "light"
     },
     "output_type": "display_data"
    }
   ],
   "source": [
    "# print(dfPrecip[\"SEP\"][113])\n",
    "p = dfPrecip[\"SEP\"].hist(bins=50, density=True)\n",
    "bar_value_to_label = 18\n",
    "min_distance = float(\"inf\")  # initialize min_distance with infinity\n",
    "index_of_bar_to_label = 0\n",
    "for i, rectangle in enumerate(p.patches):  # iterate over every bar\n",
    "    tmp = abs(  # tmp = distance from middle of the bar to bar_value_to_label\n",
    "        (rectangle.get_x() +\n",
    "            (rectangle.get_width() * (1 / 2))) - bar_value_to_label)\n",
    "    if tmp < min_distance:  # we are searching for the bar with x cordinate\n",
    "                            # closest to bar_value_to_label\n",
    "        min_distance = tmp\n",
    "        index_of_bar_to_label = i\n",
    "p.patches[index_of_bar_to_label].set_color('r')"
   ]
  },
  {
   "cell_type": "markdown",
   "metadata": {},
   "source": [
    "There is one major outlier September that recorded a maximum of 18.16 inches, which is not close to the next largest counted at 5.8 inches. Most often there is very little or no rainfall in September, but not visible on the graph, it is most common to have around 1 inch of rainfall. Its unimodal and positively skewed, with the outlier as a result of September 2013."
   ]
  }
 ],
 "metadata": {
  "kernelspec": {
   "display_name": "Python 3",
   "language": "python",
   "name": "python3"
  },
  "language_info": {
   "codemirror_mode": {
    "name": "ipython",
    "version": 3
   },
   "file_extension": ".py",
   "mimetype": "text/x-python",
   "name": "python",
   "nbconvert_exporter": "python",
   "pygments_lexer": "ipython3",
   "version": "3.8.5"
  }
 },
 "nbformat": 4,
 "nbformat_minor": 2
}