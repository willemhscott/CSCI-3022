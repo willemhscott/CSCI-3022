{
 "cells": [
  {
   "cell_type": "markdown",
   "metadata": {},
   "source": [
    "#### <a id='top'></a>\n",
    "\n",
    "# Homework 4: Bayes' for Days\n",
    "***\n",
    "\n",
    "**Name**: YOUR_NAME_HERE\n",
    "\n",
    "***\n",
    "\n",
    "This assignment is due on Canvas by **MIDNIGHT on Monday September 28**. Your solutions to theoretical questions should be done in Markdown directly below the associated question.  Your solutions to computational questions should include any specified Python code and results as well as written commentary on your conclusions.  Remember that you are encouraged to discuss the problems with your classmates, but **you must write all code and solutions on your own**.\n",
    "\n",
    "**NOTES**: \n",
    "\n",
    "- Any relevant data sets should be available under the **Data** module on Canvas. To make life easier on the graders if they need to run your code, do not change the relative path names here. Instead, move the files around on your computer.\n",
    "- If you're not familiar with typesetting math directly into Markdown then by all means, do your work on paper first and then typeset it later.  Remember that there is a [reference guide](https://math.meta.stackexchange.com/questions/5020/mathjax-basic-tutorial-and-quick-reference) linked on Canvas on writing math in Markdown. **All** of your written commentary, justifications and mathematical work should be in Markdown.\n",
    "- Because you can technically evaluate notebook cells is a non-linear order, it's a good idea to do Kernel $\\rightarrow$ Restart & Run All as a check before submitting your solutions.  That way if we need to run your code you will know that it will work as expected. \n",
    "- It is **bad form** to make your reader interpret numerical output from your code.  If a question asks you to compute some value from the data you should show your code output **AND** write a summary of the results in Markdown directly below your code. \n",
    "- 95 points of this assignment are in problems.  The remaining 5 are for neatness, style, and overall exposition of both code and text.\n",
    "- This probably goes without saying, but... For any question that asks you to calculate something, you **must show all work and justify your answers to receive credit**. Sparse or nonexistent work will receive sparse or nonexistent credit. \n",
    "\n",
    "---\n",
    "**Shortcuts:**  [Problem 1](#p1) | [Problem 2](#p2) | [Problem 3](#p3) |\n",
    "\n",
    "---"
   ]
  },
  {
   "cell_type": "code",
   "execution_count": 1,
   "metadata": {},
   "outputs": [],
   "source": [
    "import pandas as pd\n",
    "import numpy as np\n",
    "import matplotlib.pylab as plt\n",
    "%matplotlib inline"
   ]
  },
  {
   "cell_type": "markdown",
   "metadata": {},
   "source": [
    "***\n",
    "<a/ id='p1'></a>\n",
    "[Back to top](#top)\n",
    "\n",
    "## (15 pts) Problem 1: Theory (Bayes)\n",
    "***\n",
    "\n"
   ]
  },
  {
   "cell_type": "markdown",
   "metadata": {},
   "source": [
    "To get published in an academic journal, you have to prove something \"interesting.\"  As a result, most academics begin their research by investigating hypotheses that, all else equal, are unlikely to be true.  Suppose each research project begins with a research *hypothesis* that has a 12% chance of being correct.\n",
    "\n",
    "They then perform a study that satisfies the following two properties:\n",
    "\n",
    "    1) The probability that they correctly *find* an important result given that their *hypothesis* is true is 40%\n",
    "    2) The probability that they incorrectly *find* an important result given that their *hypothesis* is false is 5%\n",
    "\n",
    "If they *find* an important result they are published.  What is the probability that their *hypothesis* was true, given that they were published?"
   ]
  },
  {
   "cell_type": "markdown",
   "metadata": {},
   "source": [
    "$P(H) = 0.12$\n",
    "\n",
    "$P(\\neg H) = 0.88$\n",
    "\n",
    "$P(F \\mid H) = 0.4$\n",
    "\n",
    "$P(F \\mid \\neg H) = 0.05$\n",
    "\n",
    "$P(F) = P(F \\cap H) + P(F \\cap \\neg H)$\n",
    "\n",
    "$P(F) = P(F \\mid H)P(H) + P(F \\mid \\neg H)P(\\neg H) = 0.4 \\cdot 0.12 + 0.05 \\cdot 0.88 = 0.092$\n",
    "\n",
    "$P(H \\mid F) = \\frac{P(F \\mid H)P(H)}{P(F)} = \\frac{0.4 \\cdot 0.12}{0.092} = 0.52$\n"
   ]
  },
  {
   "cell_type": "markdown",
   "metadata": {},
   "source": [
    "[Back to top](#top)\n",
    "<a id='p2'></a>\n",
    "\n",
    "## (40 pts) Problem 2: Computation (Iterative Bayes)\n",
    "***\n",
    "\n",
    "You have decided you want to play a game with your roommate. Since you're both in Introduction to Data Science, you have your big bag of mixed dice, and you know you can do something interesting with dice!\n",
    "\n",
    "Unfortunately, you're trying to play while you bake (or maybe you've just come down with the chicken pox like Phoebe), so you're playing while wearing oven mitts that you simply cannot remove. Because of this fact, you can use your hands to pull dice from the bag, but cannot feel the dice.\n",
    "\n",
    "<img style=\"width: 200px; padding: 3mm;\" src=\"https://img.sharetv.com/shows/episodes/standard/204702.jpg\" alt=\"Phoebe with chicken pox in oven mitts\"/>\n",
    "\n",
    "Double unfortunately, you've been trapped in these oven mitts while wearing your ultra comfortable Ostrich Pillow because you were napping! Because of this fact, you also cannot see the dice you pull from the bag.\n",
    "\n",
    "<img style=\"width: 200px; padding: 3mm;\" src=\"https://i.pinimg.com/originals/d7/a3/6a/d7a36ab2216276c17c1b8b575fccad54.jpg\" alt=\"Phoebe with chicken pox in oven mitts\"/>\n",
    "\n",
    "Are you neither baking nor chicken poxed, and your roommate perhaps orchestrated this scenario to make this absurd situation arise? Who can say!\n",
    "\n",
    "In your collection, you own:\n",
    "* 20 fair six-sided dice (**S**), with faces `{1,2,3,4,5,6}`.\n",
    "* 15 fair eight-sided dice (**E**), with faces `{1,2,3,4,5,6,7,8}`.\n",
    "* 3 fair twenty-sided dice(**T**) (faces `{1,2,3,4,...,19,20}`).\n",
    "* 2 fair one-hundred-sided dice (**H**) (faces `{1,2,3,4,...,99,100}`).\n",
    "\n",
    "You and your roommate start to invent a game: you will blindly pull a die from the bag, roll the die, and your roommate will tell you what the result is. You will then guess how many sides - six, eight, twenty, or one hundred - the die you pulled has, and allocate points accordingly.\n",
    "\n",
    "But how many points are appropriate? _You'll need to figure out some probabilities here to determine what's fair!_\n",
    "\n",
    "Work the following problems by hand (or glove) for **Parts A through D and Part G** (but don't be afraid to simulate to check your result!). In **Parts E and F**, follow the instructions as written."
   ]
  },
  {
   "cell_type": "markdown",
   "metadata": {},
   "source": [
    "***\n",
    "**Part A**: You roll your die one time.  What is the probability of the event $R_7$, that you roll a 7?  Include at least 4 decimal places in your answer."
   ]
  },
  {
   "cell_type": "markdown",
   "metadata": {},
   "source": [
    "$Total = 40$\n",
    "\n",
    "$P(S) = 0.5$\n",
    "\n",
    "$P(E) = 15/40 = 0.375$\n",
    "\n",
    "$P(T) = 3/40 = 0.075$\n",
    "\n",
    "$P(H) = 2/40 = 0.05$\n",
    "\n",
    "$P(R_7) = P(R_7 | S)P(S) + P(R_7 | E)P(E) + P(R_7 | T)P(T) + P(R_7 | H)P(H)$\n",
    "\n",
    "$P(R_7) = 0 + \\frac{1}{8} \\cdot 0.375 +\\frac{1}{20} \\cdot 0.075 +\\frac{1}{100} \\cdot 0.05 \\approx 0.0511$"
   ]
  },
  {
   "cell_type": "markdown",
   "metadata": {},
   "source": [
    "***\n",
    "**Part B**: Suppose you roll a 7.  What is the probability that the die you chose from the bag is an Eight-sided die (**E**)? "
   ]
  },
  {
   "cell_type": "markdown",
   "metadata": {},
   "source": [
    "$P(E \\mid R_7) = \\frac{P(R_7 \\mid E) \\cdot P(E) }{P(R_7)} = \\frac{0.125 \\cdot 0.375}{0.0511} \\approx 0.9173$"
   ]
  },
  {
   "cell_type": "markdown",
   "metadata": {},
   "source": [
    "**Part C:**  Are the events $R_7$ and $E$ independent?  Justify your answer **using math**."
   ]
  },
  {
   "cell_type": "markdown",
   "metadata": {},
   "source": [
    "$P(R_7 \\mid E) = 0.046875$\n",
    "\n",
    "$P(R_7) = P(R_7 \\cap E) + P(R_7 \\cap \\neg E)$\n",
    "\n",
    "$P(R_7) = P(R_7 \\mid E)P(E) + P(R_7 \\mid \\neg E)P(\\neg E)$\n",
    "\n",
    "$P(R_7 \\mid \\neg E) = \\frac{P(R_7) - P(R_7 \\mid E)P(E)}{P(\\neg E)}$\n",
    "\n",
    "$P(R_7 \\mid \\neg E) = \\frac{0.0511 - 0.125 \\cdot 0.375}{0.625} \\approx 0.0068$\n",
    "\n",
    "$P(R_7 \\mid E) \\neq P(R_7 \\mid \\neg E)$"
   ]
  },
  {
   "cell_type": "markdown",
   "metadata": {},
   "source": [
    "**Part D:**  Suppose you roll your die $n$ times and record each outcome.  Obviously, if you roll 7 or higher you did *not* pick a Six-sided die,  if you roll a 9 or higher you did not pick a Six-sided or an Eight-sided, and if you roll a 21 or higher you must have picked a One-hundred-sided die.\n",
    "\n",
    "But, if you roll $n$ times in a row and get only 1, 2, 3, 4, 5, or 6 you would have a stronger belief that you in fact grabbed one of the Six-sided dice.  Let $L_n$ be the event that you roll $n$ rolls of 1, 2, 3, 4, 5, or 6 in a row.  For example, one possible outcome in $L_3$ is the sequence 2, 3, 1.\n",
    "\n",
    "Given that you roll a single value of 1, 2, 3, 4, 5, or 6, what is the probability that you have grabbed a Six-sided die?  That is, calculate **by hand** $P(S \\mid L_1)$."
   ]
  },
  {
   "cell_type": "markdown",
   "metadata": {},
   "source": [
    "$P(R_1) = P(R_1 | S)P(S) + P(R_1 | E)P(E) + P(R_1 | T)P(T) + P(R_1 | H)P(H)$\n",
    "\n",
    "$P(R_1) = \\frac{1}{6} \\cdot 0.5 + \\frac{1}{8} \\cdot 0.375 +\\frac{1}{20} \\cdot 0.075 +\\frac{1}{100} \\cdot 0.05 \\approx 0.1345$\n",
    "\n",
    "$P(L_1) = 6 \\cdot P(R_1) \\approx 0.8067$\n",
    "\n",
    "$P(S | L_1) = \\frac{P(L_1 | S) \\cdot P(S)}{P(L_1)}$\n",
    "\n",
    "$P(S | L_1) = \\frac{1 \\cdot 0.5}{0.8067} \\approx 0.6198$"
   ]
  },
  {
   "cell_type": "markdown",
   "metadata": {},
   "source": [
    "**Part E**:  \n",
    "\n",
    "First, work out **by hand** a formula for the probability in general that you are rolling a Six-sided die, given that you have rolled $n$ values in a row that are 1, 2, 3, 4, 5 or 6 (that is, $L_n$).  So you want a formula for $P(S \\mid L_n)$ in terms of $n$.\n",
    "\n",
    "Then, define a function `prob_six` to calculate $P(S \\mid L_n)$.  This function should only take one positive integer argument, $n$.\n",
    "\n",
    "Verify that your function is performing as expected by checking your answer to **Part D**."
   ]
  },
  {
   "cell_type": "markdown",
   "metadata": {},
   "source": [
    "Since repeating the step for further rolls does not affect the dice rolled, we only need to chain chances of individual results, so we exponentiate those chances n times.\n",
    "\n",
    "$$P(S | L_n) = \\frac{P(L_1 \\mid S)^n \\cdot P(S)}{P(L_1 \\mid S)^n \\cdot P(S) + P(L_1 \\mid E)^n \\cdot P(E) +P(L_1 \\mid T)^n \\cdot P(T) +P(L_1 \\mid H)^n \\cdot P(H)}$$"
   ]
  },
  {
   "cell_type": "code",
   "execution_count": 2,
   "metadata": {},
   "outputs": [
    {
     "name": "stdout",
     "output_type": "stream",
     "text": [
      "Probability of L_1: 0.6197706848466068\n"
     ]
    }
   ],
   "source": [
    "def prob_six(n):\n",
    "    # P(L_1 | S)\n",
    "    l1s = 6/6\n",
    "    # P(S)\n",
    "    s = 20/40\n",
    "    # etc etc\n",
    "    l1e = 6/8\n",
    "    e = 15/40\n",
    "    l1t = 6/20\n",
    "    t = 3/40\n",
    "    l1h = 6/100\n",
    "    h = 2/40\n",
    "    \n",
    "    return l1s**n * s / (l1s **n * s + l1e ** n * e + l1t ** n * t + l1h ** n * h)\n",
    "    \n",
    "print(\"Probability of L_1:\", prob_six(1))"
   ]
  },
  {
   "cell_type": "markdown",
   "metadata": {},
   "source": [
    "**Part F:**  What is the smallest value of $n$ successive rolls of 1, 2, 3, 4, 5 or 6 that would make you believe that there's a better-than-95% chance that the die you grabbed is Six-sided?  Plugging larger and larger values for $n$ into your `prob_six` function is a very reasonable way to check this."
   ]
  },
  {
   "cell_type": "code",
   "execution_count": 3,
   "metadata": {},
   "outputs": [
    {
     "name": "stdout",
     "output_type": "stream",
     "text": [
      "The smallest value of n for which there is a more than 95% chance of being a six sided die is 10 at 95.95%\n"
     ]
    }
   ],
   "source": [
    "x = 1\n",
    "# while (p := prob_six(x)) < .95:\n",
    "p = prob_six(x)\n",
    "while p < 0.95:\n",
    "    x += 1\n",
    "    p = prob_six(x)\n",
    "    \n",
    "print(\"The smallest value of n for which there is a more than 95% chance of being a six sided die is\", x, f\"at {p*100:.2f}%\")"
   ]
  },
  {
   "cell_type": "markdown",
   "metadata": {},
   "source": [
    "**Typeset your solution for Problem 2F in this cell or cells.**"
   ]
  },
  {
   "cell_type": "markdown",
   "metadata": {},
   "source": [
    "**Part G (BONUS 5 Points):** Now that you have looked at the probability space of your dice bag, outline the rules you would establish for this dice rolling game to make it _actually fun_, or at least somewhat fair. For example, would you allow or disallow rerolling the same die? Would you assign more points for correctly guessing a rarer die, or keep them equal? Would you create a turn-taking system where you pass the oven mitts and Ostrich Pillow back and forth, or give the roller points based on incorrect guesses? Would you implement other ideas? There's a limitless space for invention here - simply discuss how you would add a few rules (at least 3), and how those rules are based on the findings above (or run more probability calculations or simulations below to explore the space)."
   ]
  },
  {
   "cell_type": "markdown",
   "metadata": {},
   "source": []
  },
  {
   "cell_type": "markdown",
   "metadata": {},
   "source": [
    "[Back to top](#top)\n",
    "\n",
    "<a id='p3'></a>\n",
    "\n",
    "## (40 pts) Problem 3: Simulation (Stochastic Integration)\n",
    "***\n",
    "\n",
    "One really cool application of random variables is using them to approximate integrals/areas - an extension of the estimation of $\\pi$ done in nb04.  The random method of approximating integrals is used frequently in computational science to approximate really difficult integrals that we *never* want to do by hand.  In this exercise you'll figure out how we can do this in practice and test your method on an integral that we could do by hand. "
   ]
  },
  {
   "cell_type": "markdown",
   "metadata": {
    "collapsed": true
   },
   "source": [
    "**Part A.**  Let $L$ be a random variable representing how happy your new desk plant, Fernoulli Jr., is today.  It's measured by the **Lushness Index** (LI).  Suppose the probability density function for $L$ is on a scale from zero to one, and is described by an arcsine function:\n",
    "\n",
    "$$\n",
    "f_L(a) = \\begin{cases}\n",
    "         \\left(\\frac{1}{\\frac{\\pi}{2}-1}\\right)\\sin^{-1}(a) & 0 \\leq a \\leq 1 \\\\\n",
    "         0                           & \\text{otherwise}\n",
    "         \\end{cases}\n",
    "$$\n",
    "\n",
    "A Lushness Index of 1 means Fernoulli Jr. is feeling  well-watered, content, and ready to perform binary statistical experiments.  A Lushness Index of 0 means that your plant is really in need of some more sunlight.  \n",
    "\n",
    "\n",
    "\n",
    "Compute **by hand**, the integral of $f(a)$ for $0 \\leq a \\leq 1/2$.  Write a sentence or two to interpret your result physically, in the context of this problem set-up.\n",
    "\n",
    "*Hint*: this is classically an integral that makes use of the fact that $\\frac{d}{dx} \\sin^{-1}(x)=\\frac{1}{\\sqrt{1-x^2}}$.  That sounds like *\"part\"* of the solution.  You should also probably make sure you take a look at the plot of $f$, making mental note of it's minima, maxima, etc. over that interval."
   ]
  },
  {
   "cell_type": "markdown",
   "metadata": {},
   "source": [
    "$$f(a) = \\left(\\frac{1}{\\frac{\\pi}{2}-1}\\right)\\sin^{-1}(a)$$\n",
    "$$k\\ =\\ \\left(\\frac{1}{\\frac{\\pi}{2}-1}\\right)$$\n",
    "$$k\\int_{ }^{ }\\arcsin\\left(a\\right)da$$\n",
    "$$u=\\arcsin\\left(a\\right)$$\n",
    "$$a=\\sin\\left(u\\right)$$\n",
    "$$da=\\sqrt{1-a^{2}}du$$\n",
    "$$k\\int_{ }^{ }u\\sqrt{1-\\sin\\left(u\\right)^{2}}du$$\n",
    "$$k\\int_{ }^{ }u\\cos\\left(u\\right)du$$\n",
    "$$k\\int_{ }^{ }u\\cos\\left(u\\right)du=k\\cdot u\\cdot\\sin\\left(u\\right)+k\\cos\\left(u\\right)$$\n",
    "$$k\\int_{ }^{ }\\arcsin\\left(a\\right)da = k\\cdot\\arcsin\\left(a\\right)\\cdot a+k\\cdot\\sqrt{1-a^{2}}$$\n",
    "$$k\\int_{0}^{.5}\\arcsin\\left(a\\right)da = k\\left(\\left(\\arcsin\\left(.5\\right)\\cdot.5+\\sqrt{1-.5^{2}}\\ \\right)-1\\ \\right) \\approx 0.2239$$\n",
    "\n",
    "There is a 22.39% chance that Fernoulli Jr. has a Lushness Index of 0.5 or below."
   ]
  },
  {
   "cell_type": "markdown",
   "metadata": {},
   "source": [
    "**Part B.** What is the maximum of $f_L(a)$ over the interval $[0,1]$?  For the rest of the problem, we will refer to this value by $m$."
   ]
  },
  {
   "cell_type": "markdown",
   "metadata": {},
   "source": [
    "$$m = 2.7519$$"
   ]
  },
  {
   "cell_type": "markdown",
   "metadata": {},
   "source": [
    "**Part C.** Suppose we sample a continuous uniform random variable $X\\sim U(0,1/2)$ and another  random variable $Y \\sim U(0,m)$ and think of them as $x$- and $y$-coordinates of a point in the box $[0,1/2] \\times [0,m]$, or inside the box composed of all points $\\{(x,y)\\,|\\, x \\in [0,1/2], y \\in [0,m]\\}.$  \n",
    "\n",
    "If we compute the ratio of points that fall under the curve $f(x)$ to the total points sampled, what does this value estimate? "
   ]
  },
  {
   "cell_type": "markdown",
   "metadata": {},
   "source": [
    "This value estimates the value of the integral from $[0, .5]$"
   ]
  },
  {
   "cell_type": "markdown",
   "metadata": {},
   "source": [
    "**Part D.** How could we modify the process outlined in **Part B** so that our estimator estimates the value of the desired integral?  If you need inspiration, check out the in-class notebook on Stochastic Simulation (#4), specifically, the exercise where we estimated $\\pi$!"
   ]
  },
  {
   "cell_type": "markdown",
   "metadata": {},
   "source": [
    "We can modify it so X is from $[0, b]$ and keep Y within the same bounds. Then to approximate the integral, we take the ratio of the number of points under the curve to the total number of points taken, and multiply it by $b \\cdot m$\n",
    "\n",
    "If $d$ is the total number falling under the curve within the bounds $[0, b]$, and $t$ is the total number of points sampled, then the approximation $g(b) = b \\cdot m \\cdot \\tfrac{d}{t}$"
   ]
  },
  {
   "cell_type": "markdown",
   "metadata": {},
   "source": [
    "**Part E.** Complete the function `integrate` below to compute an approximation to the definition integral $\\int_0^{\\text{ub}} f(x)dx$.  Your function should take as arguments:\n",
    "1. `num_samples` -- the number of points to sample,\n",
    "2. `ub` -- a number between $0$ and $1$ that is the upper bound of the integral, and\n",
    "3. `isPlot` -- a Boolean flag for whether or not to display a plot of the results.\n",
    "\n",
    "Your function should return an approximation of the definite integral by sampling $X$ from $U(0,\\text{ub})$ and $Y$ from $U(0,m)$. For each random draw $(X,Y)$, define the random variable $Z$ that represents whether or not the sampled $Y$ value is less than $f(X)$ for the corresponding $X$ value.\n",
    "\n",
    "Your function should perform three tasks: \n",
    "\n",
    "1. return the estimate of the value of the integral,\n",
    "2. return the sample variance of the random variable $Z$ being simulated, using the np.var function, and\n",
    "3. if `isPlot` is True, plot the curve $f(x)$ as well as the location of the points $(X,Y)$, colored according to whether they fall above or below the curve. "
   ]
  },
  {
   "cell_type": "code",
   "execution_count": 4,
   "metadata": {},
   "outputs": [],
   "source": [
    "# GIVEN CODE - Do not change the inputs/outputs or your code will fail unit tests and auto-grading!\n",
    "import numpy as np\n",
    "import math\n",
    "\n",
    "def f(a):\n",
    "    return 1/(math.pi/2 - 1) * np.arcsin(a)\n",
    "\n",
    "m = f(1)\n",
    "\n",
    "def integrate(num_samples, ub, isPlot):\n",
    "    xs, ys = np.random.uniform(0, ub, num_samples), np.random.uniform(0, m, num_samples)\n",
    "    z = np.array(list(zip(xs, ys)))\n",
    "    \n",
    "    total_under = sum(f(xs) >= ys)\n",
    "    \n",
    "    #-----------------------------------------\n",
    "    # your code for 3E goes here!  replace this junk:\n",
    "    estimate = ub * m * total_under / num_samples\n",
    "    sample_var = np.var(z, ddof=1)\n",
    "    #-----------------------------------------\n",
    "    \n",
    "    if isPlot:\n",
    "        colors = np.array(['red' if f(x) >= y else 'blue' for x, y in zip(xs, ys)])\n",
    "\n",
    "        plt.scatter(xs, ys, c=colors)\n",
    "        \n",
    "        xspace = np.linspace(0, 1)\n",
    "        plt.plot(xspace, f(xspace), c=\"green\")\n",
    "        plt.show()\n",
    "    \n",
    "    return estimate, sample_var\n"
   ]
  },
  {
   "cell_type": "markdown",
   "metadata": {},
   "source": [
    "**Part F.** Write your own small unit tests!\n",
    "\n",
    "First, what should your `integrate` function output if you plug in `ub=0`? Set that as `int_0_to_0` below.\n",
    "\n",
    "Second, what should your `integrate` function output if you plug in `ub=`1?  (Is this actually a valid pdf?) Set that as `int_0_to_1` below.\n",
    "\n",
    "Then, you can execute the cell below to run two sanity checks. Write out **in math** (like, a definite integral) what each of these two tests is checking and **why** that is a reasonable sanity check.\n",
    "\n",
    "If these two assertions run without fail, then things seem to be working okay. Note that the upper endpoint test involves randomness, so if it fails, try running it a few times. If it fails a lot, then things are probably going wrong."
   ]
  },
  {
   "cell_type": "code",
   "execution_count": 5,
   "metadata": {},
   "outputs": [],
   "source": [
    "# Part 3F Code\n",
    "int_0_to_0  = 0 # fill this in!\n",
    "int_0_to_1 = 1 # this one too!\n",
    "\n",
    "\n",
    "#---------------------------------------\n",
    "# DO NOT EDIT THIS CELL BELOW HERE\n",
    "#---------------------------------------\n",
    "assert integrate(1000, 0, False)[0]==int_0_to_0, \"Error: lower endpoint test failing\"\n",
    "assert math.isclose(integrate(10000, 1, False)[0],int_0_to_1,abs_tol=0.03), \"Error: upper endpoint test failing\""
   ]
  },
  {
   "cell_type": "markdown",
   "metadata": {},
   "source": [
    "If our function works, it should be reasonably close to our two checks. The total probability should be 1, and going over no area should yield 0."
   ]
  },
  {
   "cell_type": "markdown",
   "metadata": {},
   "source": [
    "**Part G.** Run your simulation with `isPlot=True` and `ub=`$1$ for 1,000 samples so we can see your plot. Then, run your simulation (with `isPlot=False`) with at least 10,000 samples and estimate the value of the given integral. Be sure to leave your cells evaluated for the graders! Does your estimate agree with the exact value of the integral you computed in **Part A**?  As a whole, what advantage does this process offer over actually doing the integral by hand?"
   ]
  },
  {
   "cell_type": "code",
   "execution_count": 6,
   "metadata": {},
   "outputs": [
    {
     "data": {
      "image/png": "[encoded data removed]",
      "text/plain": [
       "<Figure size 432x288 with 1 Axes>"
      ]
     },
     "metadata": {
      "needs_background": "light"
     },
     "output_type": "display_data"
    },
    {
     "name": "stdout",
     "output_type": "stream",
     "text": [
      "With 1000 datapoints, the approximation of the integral from 0 to 1 is 1.06 with a variance of 0.54\n",
      "With 10000 datapoints, the approximation of the integral from 0 to 1 is 1.01 with a variance of 0.55\n"
     ]
    }
   ],
   "source": [
    "appx, var = integrate(1000, 1, True)\n",
    "print(f\"With 1000 datapoints, the approximation of the integral from 0 to 1 is {appx:.2f} with a variance of {var:.2f}\")\n",
    "\n",
    "appx, var = integrate(10000, 1, False)\n",
    "print(f\"With 10000 datapoints, the approximation of the integral from 0 to 1 is {appx:.2f} with a variance of {var:.2f}\")"
   ]
  },
  {
   "cell_type": "markdown",
   "metadata": {},
   "source": [
    "The more datapoints the closer it should approximate the integral. With a real value of 1, the two estimates are pretty close, usually within 0.05 of the real value. This process allows us to skip the step of integration, and can be used with other more difficult to integrate equations without much difficulty."
   ]
  },
  {
   "cell_type": "code",
   "execution_count": null,
   "metadata": {},
   "outputs": [],
   "source": []
  }
 ],
 "metadata": {
  "kernelspec": {
   "display_name": "Python 3",
   "language": "python",
   "name": "python3"
  },
  "language_info": {
   "codemirror_mode": {
    "name": "ipython",
    "version": 3
   },
   "file_extension": ".py",
   "mimetype": "text/x-python",
   "name": "python",
   "nbconvert_exporter": "python",
   "pygments_lexer": "ipython3",
   "version": "3.8.5"
  }
 },
 "nbformat": 4,
 "nbformat_minor": 2
}
