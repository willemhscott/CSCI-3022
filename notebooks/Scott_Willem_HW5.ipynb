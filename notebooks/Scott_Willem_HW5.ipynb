{
 "cells": [
  {
   "cell_type": "markdown",
   "metadata": {},
   "source": [
    "#### <a id='top'></a>\n",
    "\n",
    "# Homework 5: Distributions\n",
    "***\n",
    "\n",
    "**Name**: YOUR_NAME_HERE\n",
    "\n",
    "***\n",
    "\n",
    "This assignment is due on Canvas by **MIDNIGHT on Monday October 19**. Your solutions to theoretical questions should be done in Markdown directly below the associated question.  Your solutions to computational questions should include any specified Python code and results as well as written commentary on your conclusions.  Remember that you are encouraged to discuss the problems with your classmates, but **you must write all code and solutions on your own**.\n",
    "\n",
    "**NOTES**: \n",
    "\n",
    "- Any relevant data sets should be available under the **Data** module on Canvas. To make life easier on the graders if they need to run your code, do not change the relative path names here. Instead, move the files around on your computer.\n",
    "- If you're not familiar with typesetting math directly into Markdown then by all means, do your work on paper first and then typeset it later.  Remember that there is a [reference guide](https://math.meta.stackexchange.com/questions/5020/mathjax-basic-tutorial-and-quick-reference) linked on Canvas on writing math in Markdown. **All** of your written commentary, justifications and mathematical work should be in Markdown.\n",
    "- Because you can technically evaluate notebook cells is a non-linear order, it's a good idea to do Kernel $\\rightarrow$ Restart & Run All as a check before submitting your solutions.  That way if we need to run your code you will know that it will work as expected. \n",
    "- It is **bad form** to make your reader interpret numerical output from your code.  If a question asks you to compute some value from the data you should show your code output **AND** write a summary of the results in Markdown directly below your code. \n",
    "- 95 points of this assignment are in problems.  The remaining 5 are for neatness, style, and overall exposition of both code and text.\n",
    "- This probably goes without saying, but... For any question that asks you to calculate something, you **must show all work and justify your answers to receive credit**. Sparse or nonexistent work will receive sparse or nonexistent credit. \n",
    "\n",
    "---\n",
    "**Shortcuts:**  [Problem 1](#p1) | [Problem 2](#p2) | [Problem 3](#p3) |\n",
    "\n",
    "---"
   ]
  },
  {
   "cell_type": "code",
   "execution_count": 1,
   "metadata": {},
   "outputs": [],
   "source": [
    "import pandas as pd\n",
    "import numpy as np\n",
    "import matplotlib.pylab as plt\n",
    "%matplotlib inline"
   ]
  },
  {
   "cell_type": "markdown",
   "metadata": {},
   "source": [
    "***\n",
    "<a/ id='p1'></a>\n",
    "[Back to top](#top)\n",
    "\n",
    "## (30 pts) Problem 1: Theory (Continuous Distributions)\n",
    "***\n",
    "\n",
    "Suppose you are modeling the probability of observing various levels of cuteness in hedgehogs you encounter.  Let $X$ be a random variable representing the observed cuteness, which is *obviously* nonnegative and has units of deci*awws*. You decide to use the following pdf for $X$:\n",
    "\n",
    "$$\n",
    "f(x) = \\begin{cases}\n",
    "         c \\frac{1}{x^2} & =1 \\leq x < \\infty \\\\\n",
    "         0                           & \\text{otherwise}\n",
    "       \\end{cases}\n",
    "$$\n",
    "where $c$ is some normalizing constant.\n",
    "\n",
    "**Part A**: Determine the value of $c$ such that $f(x)$ is a valid probability density function. Then, make a plot of the probability density function for hedgehog cuteness, $f(x)$. Be sure to label your axes!"
   ]
  },
  {
   "cell_type": "code",
   "execution_count": 2,
   "metadata": {},
   "outputs": [
    {
     "data": {
      "image/png": "[encoded data removed]",
      "text/plain": [
       "<Figure size 432x288 with 1 Axes>"
      ]
     },
     "metadata": {
      "needs_background": "light"
     },
     "output_type": "display_data"
    }
   ],
   "source": [
    "c = 1\n",
    "f = lambda x: c/x**2 # assert 1 <= x < inf\n",
    "\n",
    "xs = np.linspace(1, 4)\n",
    "ys = f(xs)\n",
    "\n",
    "plt.xlabel(\"Cuteness (deciawws)\")\n",
    "plt.ylabel(\"Probability\")\n",
    "plt.title(\"Probability Density of Hedgehog Cuteness\")\n",
    "plt.plot(xs, ys)\n",
    "plt.show()"
   ]
  },
  {
   "cell_type": "markdown",
   "metadata": {},
   "source": [
    "**Part B**: Compute *by hand* the cumulative density (cdf) function $F(x)$ for $X$."
   ]
  },
  {
   "cell_type": "markdown",
   "metadata": {},
   "source": [
    "$$F(x) = \\int^{x}_{-\\infty}f(t) dt = \n",
    "\\begin{cases}\n",
    "         1 - \\dfrac{1}{x} & =1 \\leq x < \\infty \\\\\n",
    "         0                           & \\text{otherwise}\n",
    "\\end{cases}\n",
    "$$"
   ]
  },
  {
   "cell_type": "markdown",
   "metadata": {},
   "source": [
    "**Part C:**  Use the cdf you derived in **Part B** to calculate the median ($\\tilde{x}$) cuteness of all hedgehogs."
   ]
  },
  {
   "cell_type": "markdown",
   "metadata": {},
   "source": [
    "$$0.5 = 1 - \\dfrac{1}{\\tilde{x}}$$\n",
    "$$\\tilde{x} = 2$$"
   ]
  },
  {
   "cell_type": "markdown",
   "metadata": {},
   "source": [
    "**Part D**: It is a well-known fact that any hedgehog whose cuteness exceeds 2.5 deciawws is **totes adorbz** (A). Use the cdf you computed in **Part B** to find the probability that any arbitrary hedgehog that you observe is totes adorbz."
   ]
  },
  {
   "cell_type": "markdown",
   "metadata": {},
   "source": [
    "$$P(A) = 1 - P(\\neg A)$$\n",
    "$$P(\\neg A) = F(2.5) = 0.6$$\n",
    "$$P(A) = 0.4$$"
   ]
  },
  {
   "cell_type": "markdown",
   "metadata": {},
   "source": [
    "**Part E:** You have been painstakingly collecting data on hedgehogs all over town, and the cuteness is damn near overwhelming. Suppose you sample 5 hedgehogs, and the cuteness of any given hedgehog is independent of the cuteness of all other hedgehogs. What is the probability that more than half of them are totes adorbz? Keep at least 5 decimal places in your answer."
   ]
  },
  {
   "cell_type": "markdown",
   "metadata": {},
   "source": [
    "$$P(A_5) = P(A)^5 = 0.01024$$"
   ]
  },
  {
   "cell_type": "markdown",
   "metadata": {},
   "source": [
    "***\n",
    "<a/ id='p2'></a>\n",
    "[Back to top](#top)\n",
    "\n",
    "## (30 pts) Problem 2: Theory (Named Distributions)\n",
    "***\n",
    "Person $X$ is waiting at a bus stop where the bus arrives *exactly* every ten minutes. Person Y is at a different stop, waiting for a bus that arrives *on average* every 8 minutes. Neither person knows how long ago the last bus arrived, and the arrival time of one bus is not dependent on the other bus.\n",
    "\n",
    "\n",
    "Answer the problems below assuming the wait time for person $Y$ follows an exponential distribution and the wait time for person $X$ follows a uniform distribution.\n",
    "\n",
    "**Part A**: What are the values of the parameters of the uniform distribution for person X?"
   ]
  },
  {
   "cell_type": "markdown",
   "metadata": {},
   "source": [
    "$$a = 0$$\n",
    "$$b = 10$$"
   ]
  },
  {
   "cell_type": "markdown",
   "metadata": {},
   "source": [
    "**Part B**: What are the values of the parameters of the exponential distribution for person Y ?\n"
   ]
  },
  {
   "cell_type": "markdown",
   "metadata": {},
   "source": [
    "$$\\lambda = 0.125$$"
   ]
  },
  {
   "cell_type": "markdown",
   "metadata": {},
   "source": [
    "**Part C**: Let $Z$ be defined as the total amount of time both people (combined) wait.  What are $E[Z]$ and $Var[Z]$?"
   ]
  },
  {
   "cell_type": "markdown",
   "metadata": {},
   "source": [
    "$$E[Z] = 13 = 8 + 5$$\n",
    "$$Var[Z] = 72.3333 = 64^2 + \\dfrac{100}{12}$$"
   ]
  },
  {
   "cell_type": "markdown",
   "metadata": {},
   "source": [
    "**Part D**: What is the exact probability both people wait more than 4 minutes?\n"
   ]
  },
  {
   "cell_type": "markdown",
   "metadata": {},
   "source": [
    "$$P(G_{4, X}) = 0.6 = \\int^{10}_4 \\dfrac{1}{10} dx = \\dfrac{10 - 4}{10}$$\n",
    "$$P(G_{4, Y}) = 0.6065 = \\int^{\\infty}_4 .125e^{-.125x} dx = -e^{-.125x} = 1 - \\int^{4}_0 .125e^{-.125x} dx = -e^{-.125x}$$\n",
    "\n",
    "$$P(G_{4, X})P(G_{4, Y}) \\approx 0.3639$$"
   ]
  },
  {
   "cell_type": "markdown",
   "metadata": {},
   "source": [
    "***\n",
    "<a/ id='p3'></a>\n",
    "[Back to top](#top)\n",
    "\n",
    "## (35 pts) Problem 3: Simulation and Theory (Games)\n",
    "***\n",
    "\n",
    "The Riddler is a column on the website https://fivethirtyeight.com that posts logic, math, and probability puzzles each week.  Some of puzzles can be attacked by simulation and discrete probability: things that we have the tools to solve!\n",
    "\n",
    "(https://fivethirtyeight.com/features/how-low-can-you-roll/)\n",
    "\n",
    "You are given a fair, unweighted 10-sided die with sides labeled 0 to 9 and a sheet of paper to record your score. (If the very notion of a fair 10-sided die bothers you, and you need to know what sort of three-dimensional solid it is, then forget it — you have a random number generator that gives you an integer value from 0 to 9 with equal probability. Your loss — the die was a collector’s item.)\n",
    "\n",
    "To start the game, you roll the die. Your current “score” is the number shown, divided by 10. For example, if you were to roll a 7, then your score would be 0.7. Then, you keep rolling the die over and over again. Each time you roll, if the digit shown by the die is less than or equal to the last digit of your score, then that roll becomes the new last digit of your score. Otherwise you just go ahead and roll again. The game ends when you roll a zero.\n",
    "\n",
    "For example, suppose you roll the following: 6, 2, 5, 1, 8, 1, 0. After your first roll, your score would be 0.6, After the second, it’s 0.62. You ignore the third roll, since 5 is greater than the current last digit, 2. After the fourth roll, your score is 0.621. You ignore the fifth roll, since 8 is greater than the current last digit, 1. After the sixth roll, your score is 0.6211. And after the seventh roll, the game is over — 0.6211 is your final score.\n",
    "\n",
    "What will be your average final score in this game?\n",
    "\n",
    "**Part A**: Suppose our current value is $0.abcd$ for some 1-9 integers $a, b, c, d.$  What is the theoretical distribution of $e$, the next *term* in the final score's decimal representation?  Name the distribution and list all of its outcomes and their probabilities.  Note that \"there are no additional terms\" should have non-zero probability."
   ]
  },
  {
   "cell_type": "markdown",
   "metadata": {},
   "source": [
    "The next term is a simple uniform distribution, since all next terms are equally likely. Put in terms of $d$, the next terms with values from $1$ to $d$ as well as the chance of there being no additional terms, each have a $\\dfrac{1}{d + 1}$ chance."
   ]
  },
  {
   "cell_type": "markdown",
   "metadata": {},
   "source": [
    "**Part B**: What is the expected number of *rolls* until you're done?  What distribution is this?\n",
    "\n"
   ]
  },
  {
   "cell_type": "markdown",
   "metadata": {},
   "source": [
    "This is a geometric distribution. The probability of a certain number of rolls R is $P(R) = \\left(\\dfrac{9}{10}\\right)^{r-1} \\times \\dfrac{1}{10}$, since there is a 1/10 chance of a trial ending, and are 9/10 chances of it continuing, with a given expected number of rolls being a geometric series of $E[R] = \\sum^\\infty_{r=1} \\dfrac{r}{10}\\left(\\dfrac{9}{10}\\right)^{r-1}$, which is therefore a geometric distribution."
   ]
  },
  {
   "cell_type": "markdown",
   "metadata": {},
   "source": [
    "**Part C**: Simulate 10000 trials of this game, recording a score for each, then compute and print the average score over all of those trials. \n",
    "\n",
    "(Note: To check your result, you can find the exact *expected* solution in the following week's column: https://fivethirtyeight.com/features/can-you-decode-the-riddler-lottery/... but we want to simulate!)\n"
   ]
  },
  {
   "cell_type": "code",
   "execution_count": 1,
   "metadata": {
    "scrolled": true
   },
   "outputs": [
    {
     "name": "stdout",
     "output_type": "stream",
     "text": [
      "\n",
      "Disclaimer: If a result ends with a larger digit than the second to last\n",
      "digit, that's a rounding error, and that digit can be ignored.\n",
      "\n",
      "Average result: 0.4738465157090555\n",
      "Average rolls: 10.015086\n",
      "Most rolls: 109\n",
      "Biggest result: 0.9999973111\n",
      "Longest result: 0.22222111111111112\n"
     ]
    }
   ],
   "source": [
    "import random\n",
    "# random.seed(3317)\n",
    "\n",
    "def trial():\n",
    "    n, c = \"0.\", 1\n",
    "    last = 10\n",
    "    while (i := random.randint(0, 9)):\n",
    "        #print(i)\n",
    "        if i <= last:\n",
    "            n += str(i)\n",
    "            last = i\n",
    "        \n",
    "        c += 1\n",
    "        \n",
    "    return float(n), c\n",
    "\n",
    "print( \"\"\"\n",
    "Disclaimer: If a result ends with a larger digit than the second to last\n",
    "digit, that's a rounding error, and that digit can be ignored.\n",
    "\"\"\")\n",
    "\n",
    "nums = list(zip(*[trial() for x in range(500000)]))\n",
    "ar = sum(nums[0])/len(nums[0])\n",
    "print(\"Average result:\", ar)\n",
    "print(\"Average rolls:\", sum(nums[1])/len(nums[1]))\n",
    "\n",
    "print(\"Most rolls:\", max(nums[1]))\n",
    "print(\"Biggest result:\", max(nums[0]))\n",
    "print(\"Longest result:\", max(nums[0], key=lambda x: len(str(x))))\n"
   ]
  },
  {
   "cell_type": "markdown",
   "metadata": {},
   "source": [
    "**Part D**: Make a histogram of all your scores from part C, and include a vertical line placed at the mean score from part C."
   ]
  },
  {
   "cell_type": "code",
   "execution_count": 4,
   "metadata": {
    "scrolled": true
   },
   "outputs": [
    {
     "data": {
      "image/png": "[encoded data removed]",
      "text/plain": [
       "<Figure size 432x288 with 1 Axes>"
      ]
     },
     "metadata": {
      "needs_background": "light"
     },
     "output_type": "display_data"
    }
   ],
   "source": [
    "plt.hist(nums[0], bins=100)\n",
    "plt.vlines(ar, 0, 50000, colors='r')\n",
    "plt.show()"
   ]
  }
 ],
 "metadata": {
  "kernelspec": {
   "display_name": "Python 3",
   "language": "python",
   "name": "python3"
  },
  "language_info": {
   "codemirror_mode": {
    "name": "ipython",
    "version": 3
   },
   "file_extension": ".py",
   "mimetype": "text/x-python",
   "name": "python",
   "nbconvert_exporter": "python",
   "pygments_lexer": "ipython3",
   "version": "3.8.5"
  }
 },
 "nbformat": 4,
 "nbformat_minor": 2
}
