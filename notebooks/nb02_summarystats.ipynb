{
 "cells": [
  {
   "cell_type": "markdown",
   "metadata": {},
   "source": [
    "# Notebook 2: Summary Statistics and Boulder Weather Data \n",
    "***\n",
    "\n",
    "In this notebook we'll: \n",
    "- Use Pandas to compute summary statistics on Boulder weather data \n",
    "- Figure out how summary statistics like mean and standard deviation change under transformations of the data\n",
    "\n",
    "\n",
    "First, as always, we'll load Numpy and Pandas using their common aliases, np and pd. "
   ]
  },
  {
   "cell_type": "code",
   "execution_count": 12,
   "metadata": {},
   "outputs": [],
   "source": [
    "import numpy as np \n",
    "import pandas as pd"
   ]
  },
  {
   "cell_type": "markdown",
   "metadata": {},
   "source": [
    "The data we'll explore in this notebook concerns temperatures and other weather observations in Boulder County over the month of July 2017.  The data was obtained from the National Oceanic and Atmospheric Administration's [Climate.gov](https://www.climate.gov/) website.  You can find and download loads of climate-related data from NOAA [here](https://www.climate.gov/maps-data/datasets).   \n",
    "\n",
    "The data is stored in a .csv file called clean_boulder_weather.csv.  If you've updated your local course repository then you can read the data into pandas from the given local path.  If you have not (e.g. if you're using Azure) then you can load the data into pandas by passing in the url to the raw data file on GitHub.  "
   ]
  },
  {
   "cell_type": "code",
   "execution_count": 13,
   "metadata": {},
   "outputs": [],
   "source": [
    "# Path to the data\n",
    "file_path = '../data/clean_boulder_weather.csv'\n",
    "\n",
    "# Load the data into a DataFrame \n",
    "df = pd.read_csv(file_path)"
   ]
  },
  {
   "cell_type": "markdown",
   "metadata": {},
   "source": [
    "Take a look at the first 50 or so rows of the DataFrame using the head( ) method. "
   ]
  },
  {
   "cell_type": "code",
   "execution_count": 14,
   "metadata": {},
   "outputs": [
    {
     "data": {
      "text/plain": "        STATION                    NAME        DATE  PRCP  TMAX  TMIN\n0   USW00094075     BOULDER 14 W, CO US  2017-07-01  0.00  68.0  31.0\n1   USW00094075     BOULDER 14 W, CO US  2017-07-02  0.00  73.0  35.0\n2   USW00094075     BOULDER 14 W, CO US  2017-07-03  0.00  68.0  46.0\n3   USW00094075     BOULDER 14 W, CO US  2017-07-04  0.05  68.0  43.0\n4   USW00094075     BOULDER 14 W, CO US  2017-07-05  0.01  73.0  40.0\n5   USW00094075     BOULDER 14 W, CO US  2017-07-06  0.00  76.0  48.0\n6   USW00094075     BOULDER 14 W, CO US  2017-07-07  0.02  74.0  43.0\n7   USW00094075     BOULDER 14 W, CO US  2017-07-08  0.00  65.0  44.0\n8   USW00094075     BOULDER 14 W, CO US  2017-07-09  0.01  73.0  39.0\n9   USW00094075     BOULDER 14 W, CO US  2017-07-10  0.01  75.0  44.0\n10  USW00094075     BOULDER 14 W, CO US  2017-07-11  0.01  71.0  52.0\n11  USW00094075     BOULDER 14 W, CO US  2017-07-12  0.10  54.0  43.0\n12  USW00094075     BOULDER 14 W, CO US  2017-07-13  0.00  67.0  41.0\n13  USW00094075     BOULDER 14 W, CO US  2017-07-14  0.00  67.0  39.0\n14  USW00094075     BOULDER 14 W, CO US  2017-07-15  0.00  65.0  40.0\n15  USW00094075     BOULDER 14 W, CO US  2017-07-16  0.05  68.0  38.0\n16  USW00094075     BOULDER 14 W, CO US  2017-07-17  0.01  72.0  47.0\n17  USW00094075     BOULDER 14 W, CO US  2017-07-18  0.00  71.0  47.0\n18  USW00094075     BOULDER 14 W, CO US  2017-07-19  0.03  80.0  45.0\n19  USW00094075     BOULDER 14 W, CO US  2017-07-20  0.00  74.0  46.0\n20  USW00094075     BOULDER 14 W, CO US  2017-07-21  0.16  74.0  48.0\n21  USW00094075     BOULDER 14 W, CO US  2017-07-22  0.11  66.0  46.0\n22  USW00094075     BOULDER 14 W, CO US  2017-07-23  0.56  69.0  43.0\n23  USW00094075     BOULDER 14 W, CO US  2017-07-24  0.00  72.0  45.0\n24  USW00094075     BOULDER 14 W, CO US  2017-07-25  0.24  69.0  47.0\n25  USW00094075     BOULDER 14 W, CO US  2017-07-26  0.28  62.0  44.0\n26  USW00094075     BOULDER 14 W, CO US  2017-07-27  0.02  65.0  44.0\n27  USW00094075     BOULDER 14 W, CO US  2017-07-28  0.12  69.0  45.0\n28  USW00094075     BOULDER 14 W, CO US  2017-07-29  0.14  59.0  47.0\n29  USW00094075     BOULDER 14 W, CO US  2017-07-30  0.48  61.0  41.0\n30  USW00094075     BOULDER 14 W, CO US  2017-07-31  0.00  65.0  37.0\n31  USC00053629  GROSS RESERVOIR, CO US  2017-07-01  0.00  63.0  40.0\n32  USC00053629  GROSS RESERVOIR, CO US  2017-07-02  0.00  76.0  45.0\n33  USC00053629  GROSS RESERVOIR, CO US  2017-07-03  0.00  83.0  50.0\n34  USC00053629  GROSS RESERVOIR, CO US  2017-07-04  0.00  82.0  52.0\n35  USC00053629  GROSS RESERVOIR, CO US  2017-07-05  0.05  82.0  47.0\n36  USC00053629  GROSS RESERVOIR, CO US  2017-07-06  0.00  86.0  50.0\n37  USC00053629  GROSS RESERVOIR, CO US  2017-07-07  0.00  86.0  50.0\n38  USC00053629  GROSS RESERVOIR, CO US  2017-07-08  0.00  77.0  48.0\n39  USC00053629  GROSS RESERVOIR, CO US  2017-07-09  0.03  78.0  48.0\n40  USC00053629  GROSS RESERVOIR, CO US  2017-07-10  0.00  84.0  50.0\n41  USC00053629  GROSS RESERVOIR, CO US  2017-07-11  0.00  82.0  55.0\n42  USC00053629  GROSS RESERVOIR, CO US  2017-07-12  0.00  82.0  61.0\n43  USC00053629  GROSS RESERVOIR, CO US  2017-07-13  0.07  68.0  46.0\n44  USC00053629  GROSS RESERVOIR, CO US  2017-07-14  0.00  77.0  48.0\n45  USC00053629  GROSS RESERVOIR, CO US  2017-07-15  0.00  78.0  52.0\n46  USC00053629  GROSS RESERVOIR, CO US  2017-07-16  0.00  77.0  48.0\n47  USC00053629  GROSS RESERVOIR, CO US  2017-07-17  0.00  78.0  50.0\n48  USC00053629  GROSS RESERVOIR, CO US  2017-07-18  0.00  83.0  53.0\n49  USC00053629  GROSS RESERVOIR, CO US  2017-07-19  0.00  83.0  54.0",
      "text/html": "<div>\n<style scoped>\n    .dataframe tbody tr th:only-of-type {\n        vertical-align: middle;\n    }\n\n    .dataframe tbody tr th {\n        vertical-align: top;\n    }\n\n    .dataframe thead th {\n        text-align: right;\n    }\n</style>\n<table border=\"1\" class=\"dataframe\">\n  <thead>\n    <tr style=\"text-align: right;\">\n      <th></th>\n      <th>STATION</th>\n      <th>NAME</th>\n      <th>DATE</th>\n      <th>PRCP</th>\n      <th>TMAX</th>\n      <th>TMIN</th>\n    </tr>\n  </thead>\n  <tbody>\n    <tr>\n      <th>0</th>\n      <td>USW00094075</td>\n      <td>BOULDER 14 W, CO US</td>\n      <td>2017-07-01</td>\n      <td>0.00</td>\n      <td>68.0</td>\n      <td>31.0</td>\n    </tr>\n    <tr>\n      <th>1</th>\n      <td>USW00094075</td>\n      <td>BOULDER 14 W, CO US</td>\n      <td>2017-07-02</td>\n      <td>0.00</td>\n      <td>73.0</td>\n      <td>35.0</td>\n    </tr>\n    <tr>\n      <th>2</th>\n      <td>USW00094075</td>\n      <td>BOULDER 14 W, CO US</td>\n      <td>2017-07-03</td>\n      <td>0.00</td>\n      <td>68.0</td>\n      <td>46.0</td>\n    </tr>\n    <tr>\n      <th>3</th>\n      <td>USW00094075</td>\n      <td>BOULDER 14 W, CO US</td>\n      <td>2017-07-04</td>\n      <td>0.05</td>\n      <td>68.0</td>\n      <td>43.0</td>\n    </tr>\n    <tr>\n      <th>4</th>\n      <td>USW00094075</td>\n      <td>BOULDER 14 W, CO US</td>\n      <td>2017-07-05</td>\n      <td>0.01</td>\n      <td>73.0</td>\n      <td>40.0</td>\n    </tr>\n    <tr>\n      <th>5</th>\n      <td>USW00094075</td>\n      <td>BOULDER 14 W, CO US</td>\n      <td>2017-07-06</td>\n      <td>0.00</td>\n      <td>76.0</td>\n      <td>48.0</td>\n    </tr>\n    <tr>\n      <th>6</th>\n      <td>USW00094075</td>\n      <td>BOULDER 14 W, CO US</td>\n      <td>2017-07-07</td>\n      <td>0.02</td>\n      <td>74.0</td>\n      <td>43.0</td>\n    </tr>\n    <tr>\n      <th>7</th>\n      <td>USW00094075</td>\n      <td>BOULDER 14 W, CO US</td>\n      <td>2017-07-08</td>\n      <td>0.00</td>\n      <td>65.0</td>\n      <td>44.0</td>\n    </tr>\n    <tr>\n      <th>8</th>\n      <td>USW00094075</td>\n      <td>BOULDER 14 W, CO US</td>\n      <td>2017-07-09</td>\n      <td>0.01</td>\n      <td>73.0</td>\n      <td>39.0</td>\n    </tr>\n    <tr>\n      <th>9</th>\n      <td>USW00094075</td>\n      <td>BOULDER 14 W, CO US</td>\n      <td>2017-07-10</td>\n      <td>0.01</td>\n      <td>75.0</td>\n      <td>44.0</td>\n    </tr>\n    <tr>\n      <th>10</th>\n      <td>USW00094075</td>\n      <td>BOULDER 14 W, CO US</td>\n      <td>2017-07-11</td>\n      <td>0.01</td>\n      <td>71.0</td>\n      <td>52.0</td>\n    </tr>\n    <tr>\n      <th>11</th>\n      <td>USW00094075</td>\n      <td>BOULDER 14 W, CO US</td>\n      <td>2017-07-12</td>\n      <td>0.10</td>\n      <td>54.0</td>\n      <td>43.0</td>\n    </tr>\n    <tr>\n      <th>12</th>\n      <td>USW00094075</td>\n      <td>BOULDER 14 W, CO US</td>\n      <td>2017-07-13</td>\n      <td>0.00</td>\n      <td>67.0</td>\n      <td>41.0</td>\n    </tr>\n    <tr>\n      <th>13</th>\n      <td>USW00094075</td>\n      <td>BOULDER 14 W, CO US</td>\n      <td>2017-07-14</td>\n      <td>0.00</td>\n      <td>67.0</td>\n      <td>39.0</td>\n    </tr>\n    <tr>\n      <th>14</th>\n      <td>USW00094075</td>\n      <td>BOULDER 14 W, CO US</td>\n      <td>2017-07-15</td>\n      <td>0.00</td>\n      <td>65.0</td>\n      <td>40.0</td>\n    </tr>\n    <tr>\n      <th>15</th>\n      <td>USW00094075</td>\n      <td>BOULDER 14 W, CO US</td>\n      <td>2017-07-16</td>\n      <td>0.05</td>\n      <td>68.0</td>\n      <td>38.0</td>\n    </tr>\n    <tr>\n      <th>16</th>\n      <td>USW00094075</td>\n      <td>BOULDER 14 W, CO US</td>\n      <td>2017-07-17</td>\n      <td>0.01</td>\n      <td>72.0</td>\n      <td>47.0</td>\n    </tr>\n    <tr>\n      <th>17</th>\n      <td>USW00094075</td>\n      <td>BOULDER 14 W, CO US</td>\n      <td>2017-07-18</td>\n      <td>0.00</td>\n      <td>71.0</td>\n      <td>47.0</td>\n    </tr>\n    <tr>\n      <th>18</th>\n      <td>USW00094075</td>\n      <td>BOULDER 14 W, CO US</td>\n      <td>2017-07-19</td>\n      <td>0.03</td>\n      <td>80.0</td>\n      <td>45.0</td>\n    </tr>\n    <tr>\n      <th>19</th>\n      <td>USW00094075</td>\n      <td>BOULDER 14 W, CO US</td>\n      <td>2017-07-20</td>\n      <td>0.00</td>\n      <td>74.0</td>\n      <td>46.0</td>\n    </tr>\n    <tr>\n      <th>20</th>\n      <td>USW00094075</td>\n      <td>BOULDER 14 W, CO US</td>\n      <td>2017-07-21</td>\n      <td>0.16</td>\n      <td>74.0</td>\n      <td>48.0</td>\n    </tr>\n    <tr>\n      <th>21</th>\n      <td>USW00094075</td>\n      <td>BOULDER 14 W, CO US</td>\n      <td>2017-07-22</td>\n      <td>0.11</td>\n      <td>66.0</td>\n      <td>46.0</td>\n    </tr>\n    <tr>\n      <th>22</th>\n      <td>USW00094075</td>\n      <td>BOULDER 14 W, CO US</td>\n      <td>2017-07-23</td>\n      <td>0.56</td>\n      <td>69.0</td>\n      <td>43.0</td>\n    </tr>\n    <tr>\n      <th>23</th>\n      <td>USW00094075</td>\n      <td>BOULDER 14 W, CO US</td>\n      <td>2017-07-24</td>\n      <td>0.00</td>\n      <td>72.0</td>\n      <td>45.0</td>\n    </tr>\n    <tr>\n      <th>24</th>\n      <td>USW00094075</td>\n      <td>BOULDER 14 W, CO US</td>\n      <td>2017-07-25</td>\n      <td>0.24</td>\n      <td>69.0</td>\n      <td>47.0</td>\n    </tr>\n    <tr>\n      <th>25</th>\n      <td>USW00094075</td>\n      <td>BOULDER 14 W, CO US</td>\n      <td>2017-07-26</td>\n      <td>0.28</td>\n      <td>62.0</td>\n      <td>44.0</td>\n    </tr>\n    <tr>\n      <th>26</th>\n      <td>USW00094075</td>\n      <td>BOULDER 14 W, CO US</td>\n      <td>2017-07-27</td>\n      <td>0.02</td>\n      <td>65.0</td>\n      <td>44.0</td>\n    </tr>\n    <tr>\n      <th>27</th>\n      <td>USW00094075</td>\n      <td>BOULDER 14 W, CO US</td>\n      <td>2017-07-28</td>\n      <td>0.12</td>\n      <td>69.0</td>\n      <td>45.0</td>\n    </tr>\n    <tr>\n      <th>28</th>\n      <td>USW00094075</td>\n      <td>BOULDER 14 W, CO US</td>\n      <td>2017-07-29</td>\n      <td>0.14</td>\n      <td>59.0</td>\n      <td>47.0</td>\n    </tr>\n    <tr>\n      <th>29</th>\n      <td>USW00094075</td>\n      <td>BOULDER 14 W, CO US</td>\n      <td>2017-07-30</td>\n      <td>0.48</td>\n      <td>61.0</td>\n      <td>41.0</td>\n    </tr>\n    <tr>\n      <th>30</th>\n      <td>USW00094075</td>\n      <td>BOULDER 14 W, CO US</td>\n      <td>2017-07-31</td>\n      <td>0.00</td>\n      <td>65.0</td>\n      <td>37.0</td>\n    </tr>\n    <tr>\n      <th>31</th>\n      <td>USC00053629</td>\n      <td>GROSS RESERVOIR, CO US</td>\n      <td>2017-07-01</td>\n      <td>0.00</td>\n      <td>63.0</td>\n      <td>40.0</td>\n    </tr>\n    <tr>\n      <th>32</th>\n      <td>USC00053629</td>\n      <td>GROSS RESERVOIR, CO US</td>\n      <td>2017-07-02</td>\n      <td>0.00</td>\n      <td>76.0</td>\n      <td>45.0</td>\n    </tr>\n    <tr>\n      <th>33</th>\n      <td>USC00053629</td>\n      <td>GROSS RESERVOIR, CO US</td>\n      <td>2017-07-03</td>\n      <td>0.00</td>\n      <td>83.0</td>\n      <td>50.0</td>\n    </tr>\n    <tr>\n      <th>34</th>\n      <td>USC00053629</td>\n      <td>GROSS RESERVOIR, CO US</td>\n      <td>2017-07-04</td>\n      <td>0.00</td>\n      <td>82.0</td>\n      <td>52.0</td>\n    </tr>\n    <tr>\n      <th>35</th>\n      <td>USC00053629</td>\n      <td>GROSS RESERVOIR, CO US</td>\n      <td>2017-07-05</td>\n      <td>0.05</td>\n      <td>82.0</td>\n      <td>47.0</td>\n    </tr>\n    <tr>\n      <th>36</th>\n      <td>USC00053629</td>\n      <td>GROSS RESERVOIR, CO US</td>\n      <td>2017-07-06</td>\n      <td>0.00</td>\n      <td>86.0</td>\n      <td>50.0</td>\n    </tr>\n    <tr>\n      <th>37</th>\n      <td>USC00053629</td>\n      <td>GROSS RESERVOIR, CO US</td>\n      <td>2017-07-07</td>\n      <td>0.00</td>\n      <td>86.0</td>\n      <td>50.0</td>\n    </tr>\n    <tr>\n      <th>38</th>\n      <td>USC00053629</td>\n      <td>GROSS RESERVOIR, CO US</td>\n      <td>2017-07-08</td>\n      <td>0.00</td>\n      <td>77.0</td>\n      <td>48.0</td>\n    </tr>\n    <tr>\n      <th>39</th>\n      <td>USC00053629</td>\n      <td>GROSS RESERVOIR, CO US</td>\n      <td>2017-07-09</td>\n      <td>0.03</td>\n      <td>78.0</td>\n      <td>48.0</td>\n    </tr>\n    <tr>\n      <th>40</th>\n      <td>USC00053629</td>\n      <td>GROSS RESERVOIR, CO US</td>\n      <td>2017-07-10</td>\n      <td>0.00</td>\n      <td>84.0</td>\n      <td>50.0</td>\n    </tr>\n    <tr>\n      <th>41</th>\n      <td>USC00053629</td>\n      <td>GROSS RESERVOIR, CO US</td>\n      <td>2017-07-11</td>\n      <td>0.00</td>\n      <td>82.0</td>\n      <td>55.0</td>\n    </tr>\n    <tr>\n      <th>42</th>\n      <td>USC00053629</td>\n      <td>GROSS RESERVOIR, CO US</td>\n      <td>2017-07-12</td>\n      <td>0.00</td>\n      <td>82.0</td>\n      <td>61.0</td>\n    </tr>\n    <tr>\n      <th>43</th>\n      <td>USC00053629</td>\n      <td>GROSS RESERVOIR, CO US</td>\n      <td>2017-07-13</td>\n      <td>0.07</td>\n      <td>68.0</td>\n      <td>46.0</td>\n    </tr>\n    <tr>\n      <th>44</th>\n      <td>USC00053629</td>\n      <td>GROSS RESERVOIR, CO US</td>\n      <td>2017-07-14</td>\n      <td>0.00</td>\n      <td>77.0</td>\n      <td>48.0</td>\n    </tr>\n    <tr>\n      <th>45</th>\n      <td>USC00053629</td>\n      <td>GROSS RESERVOIR, CO US</td>\n      <td>2017-07-15</td>\n      <td>0.00</td>\n      <td>78.0</td>\n      <td>52.0</td>\n    </tr>\n    <tr>\n      <th>46</th>\n      <td>USC00053629</td>\n      <td>GROSS RESERVOIR, CO US</td>\n      <td>2017-07-16</td>\n      <td>0.00</td>\n      <td>77.0</td>\n      <td>48.0</td>\n    </tr>\n    <tr>\n      <th>47</th>\n      <td>USC00053629</td>\n      <td>GROSS RESERVOIR, CO US</td>\n      <td>2017-07-17</td>\n      <td>0.00</td>\n      <td>78.0</td>\n      <td>50.0</td>\n    </tr>\n    <tr>\n      <th>48</th>\n      <td>USC00053629</td>\n      <td>GROSS RESERVOIR, CO US</td>\n      <td>2017-07-18</td>\n      <td>0.00</td>\n      <td>83.0</td>\n      <td>53.0</td>\n    </tr>\n    <tr>\n      <th>49</th>\n      <td>USC00053629</td>\n      <td>GROSS RESERVOIR, CO US</td>\n      <td>2017-07-19</td>\n      <td>0.00</td>\n      <td>83.0</td>\n      <td>54.0</td>\n    </tr>\n  </tbody>\n</table>\n</div>"
     },
     "execution_count": 14,
     "metadata": {},
     "output_type": "execute_result"
    }
   ],
   "source": [
    "df.head(50)"
   ]
  },
  {
   "cell_type": "markdown",
   "metadata": {},
   "source": [
    "From this you should see that each row in the DataFrame refers to a particular weather station / date combination.  The columns of the DataFrame are as follows: \n",
    "\n",
    "- **STATION**: The unique identification code for each weather station \n",
    "- **NAME**: The location / name of the weather station \n",
    "- **DATE**: The date of the observation \n",
    "- **PRCP**: The precipitation (in inches)\n",
    "- **TMAX**: The daily maximum temperature (in Fahrenheit)\n",
    "- **TMIN**: The daily minimum temperature (in Fahrenheit)\n",
    "\n",
    "From the printed DataFrame above you can see that we actually have data from multiple weather stations.  To see how many, we can pass the **NAME** column (or the **STATION** column) into Python's set function. "
   ]
  },
  {
   "cell_type": "code",
   "execution_count": 15,
   "metadata": {},
   "outputs": [
    {
     "data": {
      "text/plain": "{'BOULDER 14 W, CO US',\n 'BOULDER, CO US',\n 'GROSS RESERVOIR, CO US',\n 'NIWOT, CO US',\n 'NORTHGLENN, CO US',\n 'RALSTON RESERVOIR, CO US',\n 'SUGARLOAF COLORADO, CO US'}"
     },
     "execution_count": 15,
     "metadata": {},
     "output_type": "execute_result"
    }
   ],
   "source": [
    "set(df[\"NAME\"])"
   ]
  },
  {
   "cell_type": "markdown",
   "metadata": {},
   "source": [
    "It looks like we have data from seven different weather stations.  For consistency, let's reduce the data to just the reports from the weather station in Niwot.  "
   ]
  },
  {
   "cell_type": "markdown",
   "metadata": {},
   "source": [
    "### Exercise 1\n",
    "***\n",
    "Extract the rows of the DataFrame concerned with the Niwot weather station.  Store this data in a new DataFrame called dfNiwot."
   ]
  },
  {
   "cell_type": "code",
   "execution_count": 16,
   "metadata": {},
   "outputs": [
    {
     "data": {
      "text/plain": "        STATION          NAME        DATE  PRCP  TMAX  TMIN\n93  USS0005J42S  NIWOT, CO US  2017-07-01   0.0  69.0  32.0\n94  USS0005J42S  NIWOT, CO US  2017-07-02   0.0  73.0  37.0\n95  USS0005J42S  NIWOT, CO US  2017-07-03   0.0  68.0  47.0\n96  USS0005J42S  NIWOT, CO US  2017-07-04   0.1  70.0  41.0\n97  USS0005J42S  NIWOT, CO US  2017-07-05   0.0  74.0  40.0",
      "text/html": "<div>\n<style scoped>\n    .dataframe tbody tr th:only-of-type {\n        vertical-align: middle;\n    }\n\n    .dataframe tbody tr th {\n        vertical-align: top;\n    }\n\n    .dataframe thead th {\n        text-align: right;\n    }\n</style>\n<table border=\"1\" class=\"dataframe\">\n  <thead>\n    <tr style=\"text-align: right;\">\n      <th></th>\n      <th>STATION</th>\n      <th>NAME</th>\n      <th>DATE</th>\n      <th>PRCP</th>\n      <th>TMAX</th>\n      <th>TMIN</th>\n    </tr>\n  </thead>\n  <tbody>\n    <tr>\n      <th>93</th>\n      <td>USS0005J42S</td>\n      <td>NIWOT, CO US</td>\n      <td>2017-07-01</td>\n      <td>0.0</td>\n      <td>69.0</td>\n      <td>32.0</td>\n    </tr>\n    <tr>\n      <th>94</th>\n      <td>USS0005J42S</td>\n      <td>NIWOT, CO US</td>\n      <td>2017-07-02</td>\n      <td>0.0</td>\n      <td>73.0</td>\n      <td>37.0</td>\n    </tr>\n    <tr>\n      <th>95</th>\n      <td>USS0005J42S</td>\n      <td>NIWOT, CO US</td>\n      <td>2017-07-03</td>\n      <td>0.0</td>\n      <td>68.0</td>\n      <td>47.0</td>\n    </tr>\n    <tr>\n      <th>96</th>\n      <td>USS0005J42S</td>\n      <td>NIWOT, CO US</td>\n      <td>2017-07-04</td>\n      <td>0.1</td>\n      <td>70.0</td>\n      <td>41.0</td>\n    </tr>\n    <tr>\n      <th>97</th>\n      <td>USS0005J42S</td>\n      <td>NIWOT, CO US</td>\n      <td>2017-07-05</td>\n      <td>0.0</td>\n      <td>74.0</td>\n      <td>40.0</td>\n    </tr>\n  </tbody>\n</table>\n</div>"
     },
     "execution_count": 16,
     "metadata": {},
     "output_type": "execute_result"
    }
   ],
   "source": [
    "dfNiwot = df[df['NAME'] == \"NIWOT, CO US\"] # your code goes here!\n",
    "dfNiwot.head() "
   ]
  },
  {
   "cell_type": "markdown",
   "metadata": {},
   "source": [
    "### Exercise 2  \n",
    "***\n",
    "\n",
    "Pandas (and Numpy) have canned functions that compute each of the summary statistics discussed in lecture.  We'll use the .mean( ) function as an example.  All of these functions can be called either on a Pandas Series (i.e. a column of a DataFrame) or on an entire DataFrame at one time.  \n",
    "\n",
    "For instance, the sample mean of the maximum daily temperature is given by "
   ]
  },
  {
   "cell_type": "code",
   "execution_count": 17,
   "metadata": {},
   "outputs": [
    {
     "data": {
      "text/plain": "69.83870967741936"
     },
     "execution_count": 17,
     "metadata": {},
     "output_type": "execute_result"
    }
   ],
   "source": [
    "dfNiwot[\"TMAX\"].mean()"
   ]
  },
  {
   "cell_type": "markdown",
   "metadata": {},
   "source": [
    "Let's see what happens if we call .mean( ) on the entire DataFrame. "
   ]
  },
  {
   "cell_type": "code",
   "execution_count": 18,
   "metadata": {},
   "outputs": [
    {
     "data": {
      "text/plain": "PRCP     0.061290\nTMAX    69.838710\nTMIN    43.548387\ndtype: float64"
     },
     "execution_count": 18,
     "metadata": {},
     "output_type": "execute_result"
    }
   ],
   "source": [
    "dfNiwot.mean()"
   ]
  },
  {
   "cell_type": "markdown",
   "metadata": {},
   "source": [
    "In this case, Pandas returned a Series with the means of all of the **numerical** data in the DataFrame. \n",
    "\n",
    "The functions for the other summary statistics are as follows: \n",
    "\n",
    "\\begin{array}{l|l}\n",
    "\\textrm{Function} & \\textrm{Statistics} \\\\\n",
    "\\hline\n",
    "\\textrm{.var()} & \\textrm{variance} \\\\\n",
    "\\textrm{.std()} & \\textrm{standard deviation} \\\\\n",
    "\\textrm{.min()} & \\textrm{minimum value} \\\\\n",
    "\\textrm{.max()} & \\textrm{maximum value} \\\\\n",
    "\\textrm{.median()} & \\textrm{value} \\\\\n",
    "\\textrm{.quantile(q)} & \\textrm{quantile, where q is the desired percentage as a decimal} \\\\\n",
    "\\end{array}\n",
    "\n",
    "Your job is to use these functions to compute the 5-number summary for the maximum daily temperature. "
   ]
  },
  {
   "cell_type": "code",
   "execution_count": 19,
   "metadata": {},
   "outputs": [
    {
     "name": "stdout",
     "output_type": "stream",
     "text": [
      "5-Number Summary: 54.00    66.50    70.00    74.00    80.00\n"
     ]
    }
   ],
   "source": [
    "kdf = dfNiwot[\"TMAX\"]\n",
    "minval = kdf.min()  # your code goes here!\n",
    "maxval = kdf.max() # ... and here\n",
    "Q1 = kdf.quantile(.25) # ... and here\n",
    "Q2 = kdf.quantile(.50) # ... and here\n",
    "Q3 = kdf.quantile(.75) # ... and here!\n",
    "print(\"5-Number Summary: {:.2f}    {:.2f}    {:.2f}    {:.2f}    {:.2f}\".format(minval, Q1, Q2, Q3, maxval))"
   ]
  },
  {
   "cell_type": "markdown",
   "metadata": {},
   "source": [
    "### Exercise 3 \n",
    "***\n",
    "It turns out that Pandas has a nice function called .describe( ) that will compute all of the standard summary statistics for you.  You can apply it either to a Pandas Series or to an entire DataFrame.  \n",
    "\n",
    "Run the .describe( ) function on the **TMAX** column of your DataFrame, and check that the results agree with your computations from Exercise 2. "
   ]
  },
  {
   "cell_type": "code",
   "execution_count": 20,
   "metadata": {},
   "outputs": [
    {
     "data": {
      "text/plain": "count    31.000000\nmean     69.838710\nstd       5.621962\nmin      54.000000\n25%      66.500000\n50%      70.000000\n75%      74.000000\nmax      80.000000\nName: TMAX, dtype: float64"
     },
     "execution_count": 20,
     "metadata": {},
     "output_type": "execute_result"
    }
   ],
   "source": [
    "dfNiwot[\"TMAX\"].describe()"
   ]
  },
  {
   "cell_type": "markdown",
   "metadata": {},
   "source": [
    "### Exercise 4 \n",
    "***\n",
    "In this exercise we'll explore how the mean and the standard deviation change when we perform basic transformations on the data.  In particular, we're interested in what happens if we \n",
    "\n",
    "1. Add or subtract some value from every entry in the data set \n",
    "1. Multiply every entry in the data set by some value \n",
    "\n",
    "We know from above that the mean and standard deviation of the Niwot **TMAX** value are 69.83871 and 5.621962.  Experiment by adding and multiplying nice integer values with the **TMAX** column and then recomputing the statistics.  From your observations, can you guess how the mean and std dev change under these transformations? \n",
    "\n",
    "To get you started, note that the following code will add 3 to each value of the **TMAX** DataFrame:"
   ]
  },
  {
   "cell_type": "code",
   "execution_count": 21,
   "metadata": {
    "scrolled": true
   },
   "outputs": [
    {
     "data": {
      "text/plain": "93     72.0\n94     76.0\n95     71.0\n96     73.0\n97     77.0\n98     81.0\n99     77.0\n100    70.0\n101    78.0\n102    78.0\n103    78.0\n104    57.0\n105    72.0\n106    72.0\n107    71.0\n108    74.0\n109    77.0\n110    74.0\n111    83.0\n112    78.0\n113    77.0\n114    69.0\n115    69.0\n116    77.0\n117    73.0\n118    67.0\n119    68.0\n120    74.0\n121    61.0\n122    65.0\n123    69.0\nName: TMAX, dtype: float64"
     },
     "execution_count": 21,
     "metadata": {},
     "output_type": "execute_result"
    }
   ],
   "source": [
    "dfNiwot[\"TMAX\"] + 3"
   ]
  },
  {
   "cell_type": "markdown",
   "metadata": {},
   "source": [
    "See if you can prove that your guess works in general mathematically using the formulas for the two statistics: \n",
    "\n",
    "$$\n",
    "\\bar{x} = \\frac{1}{n} \\displaystyle\\sum_{k=1}^n x_k \\quad \\quad \\textrm{and} \\quad \\quad s = \\sqrt{\\frac{1}{n-1} \\sum_{k=1}^n \\left( x_k - \\bar{x}\\right)^2} \n",
    "$$"
   ]
  },
  {
   "cell_type": "markdown",
   "metadata": {},
   "source": [
    "### Exercise 5 \n",
    "***\n",
    "OK, let's apply a common transformation to the **TMAX** and **TMIN** columns by converting the temperatures from Fahrenheit to Celsius.  Remember that the transformation is given by \n",
    "\n",
    "$$\n",
    "\\textrm{CELSIUS} = \\frac{5}{9} (\\textrm{FAHRENHEIT}-32) \n",
    "$$\n",
    "\n",
    "First, use the Fahrenheit data in columns **TMAX** and **TMIN** to create Celsius columns in the Niwot DataFrame called **TMAX-C** and **TMIN-C**."
   ]
  },
  {
   "cell_type": "code",
   "execution_count": 22,
   "metadata": {},
   "outputs": [
    {
     "name": "stderr",
     "output_type": "stream",
     "text": [
      "C:\\ProgramData\\Anaconda3\\envs\\scientificProject\\lib\\site-packages\\pandas\\core\\indexing.py:1596: SettingWithCopyWarning: \n",
      "A value is trying to be set on a copy of a slice from a DataFrame.\n",
      "Try using .loc[row_indexer,col_indexer] = value instead\n",
      "\n",
      "See the caveats in the documentation: https://pandas.pydata.org/pandas-docs/stable/user_guide/indexing.html#returning-a-view-versus-a-copy\n",
      "  self.obj[key] = _infer_fill_value(value)\n",
      "C:\\ProgramData\\Anaconda3\\envs\\scientificProject\\lib\\site-packages\\pandas\\core\\indexing.py:1745: SettingWithCopyWarning: \n",
      "A value is trying to be set on a copy of a slice from a DataFrame.\n",
      "Try using .loc[row_indexer,col_indexer] = value instead\n",
      "\n",
      "See the caveats in the documentation: https://pandas.pydata.org/pandas-docs/stable/user_guide/indexing.html#returning-a-view-versus-a-copy\n",
      "  isetter(ilocs[0], value)\n",
      "<ipython-input-22-45155b074c52>:2: SettingWithCopyWarning: \n",
      "A value is trying to be set on a copy of a slice from a DataFrame.\n",
      "Try using .loc[row_indexer,col_indexer] = value instead\n",
      "\n",
      "See the caveats in the documentation: https://pandas.pydata.org/pandas-docs/stable/user_guide/indexing.html#returning-a-view-versus-a-copy\n",
      "  dfNiwot[\"TMIN-C\"] = (dfNiwot['TMIN'] - 32) * 5 / 9 #Your code here\n"
     ]
    }
   ],
   "source": [
    "dfNiwot.loc[:,\"TMAX-C\"] = (dfNiwot['TMAX'] - 32) * 5 / 9 #Your code here\n",
    "dfNiwot[\"TMIN-C\"] = (dfNiwot['TMIN'] - 32) * 5 / 9 #Your code here"
   ]
  },
  {
   "cell_type": "code",
   "execution_count": 23,
   "metadata": {},
   "outputs": [
    {
     "data": {
      "text/plain": "        STATION          NAME        DATE  PRCP  TMAX  TMIN     TMAX-C  \\\n93  USS0005J42S  NIWOT, CO US  2017-07-01   0.0  69.0  32.0  20.555556   \n94  USS0005J42S  NIWOT, CO US  2017-07-02   0.0  73.0  37.0  22.777778   \n95  USS0005J42S  NIWOT, CO US  2017-07-03   0.0  68.0  47.0  20.000000   \n96  USS0005J42S  NIWOT, CO US  2017-07-04   0.1  70.0  41.0  21.111111   \n97  USS0005J42S  NIWOT, CO US  2017-07-05   0.0  74.0  40.0  23.333333   \n\n      TMIN-C  \n93  0.000000  \n94  2.777778  \n95  8.333333  \n96  5.000000  \n97  4.444444  ",
      "text/html": "<div>\n<style scoped>\n    .dataframe tbody tr th:only-of-type {\n        vertical-align: middle;\n    }\n\n    .dataframe tbody tr th {\n        vertical-align: top;\n    }\n\n    .dataframe thead th {\n        text-align: right;\n    }\n</style>\n<table border=\"1\" class=\"dataframe\">\n  <thead>\n    <tr style=\"text-align: right;\">\n      <th></th>\n      <th>STATION</th>\n      <th>NAME</th>\n      <th>DATE</th>\n      <th>PRCP</th>\n      <th>TMAX</th>\n      <th>TMIN</th>\n      <th>TMAX-C</th>\n      <th>TMIN-C</th>\n    </tr>\n  </thead>\n  <tbody>\n    <tr>\n      <th>93</th>\n      <td>USS0005J42S</td>\n      <td>NIWOT, CO US</td>\n      <td>2017-07-01</td>\n      <td>0.0</td>\n      <td>69.0</td>\n      <td>32.0</td>\n      <td>20.555556</td>\n      <td>0.000000</td>\n    </tr>\n    <tr>\n      <th>94</th>\n      <td>USS0005J42S</td>\n      <td>NIWOT, CO US</td>\n      <td>2017-07-02</td>\n      <td>0.0</td>\n      <td>73.0</td>\n      <td>37.0</td>\n      <td>22.777778</td>\n      <td>2.777778</td>\n    </tr>\n    <tr>\n      <th>95</th>\n      <td>USS0005J42S</td>\n      <td>NIWOT, CO US</td>\n      <td>2017-07-03</td>\n      <td>0.0</td>\n      <td>68.0</td>\n      <td>47.0</td>\n      <td>20.000000</td>\n      <td>8.333333</td>\n    </tr>\n    <tr>\n      <th>96</th>\n      <td>USS0005J42S</td>\n      <td>NIWOT, CO US</td>\n      <td>2017-07-04</td>\n      <td>0.1</td>\n      <td>70.0</td>\n      <td>41.0</td>\n      <td>21.111111</td>\n      <td>5.000000</td>\n    </tr>\n    <tr>\n      <th>97</th>\n      <td>USS0005J42S</td>\n      <td>NIWOT, CO US</td>\n      <td>2017-07-05</td>\n      <td>0.0</td>\n      <td>74.0</td>\n      <td>40.0</td>\n      <td>23.333333</td>\n      <td>4.444444</td>\n    </tr>\n  </tbody>\n</table>\n</div>"
     },
     "execution_count": 23,
     "metadata": {},
     "output_type": "execute_result"
    }
   ],
   "source": [
    "dfNiwot.head()"
   ]
  },
  {
   "cell_type": "markdown",
   "metadata": {},
   "source": [
    "Based on the stuff we proved in **Exercise 4**, what do you expect the mean and the standard deviation of the daily maximum temperature to be in Celsius? "
   ]
  },
  {
   "cell_type": "code",
   "execution_count": 23,
   "metadata": {},
   "outputs": [],
   "source": []
  },
  {
   "cell_type": "markdown",
   "metadata": {},
   "source": [
    "Once you've made your guess, see if you're right by applying the .mean( ) and .std( ) methods to **TMAX-C** and **TMIN-C**. "
   ]
  },
  {
   "cell_type": "code",
   "execution_count": 24,
   "metadata": {},
   "outputs": [
    {
     "data": {
      "text/plain": "            PRCP       TMAX       TMIN     TMAX-C     TMIN-C\ncount  31.000000  31.000000  31.000000  31.000000  31.000000\nmean    0.061290  69.838710  43.548387  21.021505   6.415771\nstd     0.091933   5.621962   4.023586   3.123312   2.235326\nmin     0.000000  54.000000  32.000000  12.222222   0.000000\n25%     0.000000  66.500000  41.000000  19.166667   5.000000\n50%     0.000000  70.000000  44.000000  21.111111   6.666667\n75%     0.100000  74.000000  47.000000  23.333333   8.333333\nmax     0.300000  80.000000  52.000000  26.666667  11.111111",
      "text/html": "<div>\n<style scoped>\n    .dataframe tbody tr th:only-of-type {\n        vertical-align: middle;\n    }\n\n    .dataframe tbody tr th {\n        vertical-align: top;\n    }\n\n    .dataframe thead th {\n        text-align: right;\n    }\n</style>\n<table border=\"1\" class=\"dataframe\">\n  <thead>\n    <tr style=\"text-align: right;\">\n      <th></th>\n      <th>PRCP</th>\n      <th>TMAX</th>\n      <th>TMIN</th>\n      <th>TMAX-C</th>\n      <th>TMIN-C</th>\n    </tr>\n  </thead>\n  <tbody>\n    <tr>\n      <th>count</th>\n      <td>31.000000</td>\n      <td>31.000000</td>\n      <td>31.000000</td>\n      <td>31.000000</td>\n      <td>31.000000</td>\n    </tr>\n    <tr>\n      <th>mean</th>\n      <td>0.061290</td>\n      <td>69.838710</td>\n      <td>43.548387</td>\n      <td>21.021505</td>\n      <td>6.415771</td>\n    </tr>\n    <tr>\n      <th>std</th>\n      <td>0.091933</td>\n      <td>5.621962</td>\n      <td>4.023586</td>\n      <td>3.123312</td>\n      <td>2.235326</td>\n    </tr>\n    <tr>\n      <th>min</th>\n      <td>0.000000</td>\n      <td>54.000000</td>\n      <td>32.000000</td>\n      <td>12.222222</td>\n      <td>0.000000</td>\n    </tr>\n    <tr>\n      <th>25%</th>\n      <td>0.000000</td>\n      <td>66.500000</td>\n      <td>41.000000</td>\n      <td>19.166667</td>\n      <td>5.000000</td>\n    </tr>\n    <tr>\n      <th>50%</th>\n      <td>0.000000</td>\n      <td>70.000000</td>\n      <td>44.000000</td>\n      <td>21.111111</td>\n      <td>6.666667</td>\n    </tr>\n    <tr>\n      <th>75%</th>\n      <td>0.100000</td>\n      <td>74.000000</td>\n      <td>47.000000</td>\n      <td>23.333333</td>\n      <td>8.333333</td>\n    </tr>\n    <tr>\n      <th>max</th>\n      <td>0.300000</td>\n      <td>80.000000</td>\n      <td>52.000000</td>\n      <td>26.666667</td>\n      <td>11.111111</td>\n    </tr>\n  </tbody>\n</table>\n</div>"
     },
     "execution_count": 24,
     "metadata": {},
     "output_type": "execute_result"
    }
   ],
   "source": [
    "dfNiwot.describe()"
   ]
  },
  {
   "cell_type": "markdown",
   "metadata": {},
   "source": [
    "### Exercise 6 \n",
    "***\n",
    "\n",
    "Compute the daily temperature range (max minus min) for each row in the Niwot DataFrame and store it in a column called **TDIFF**.  Then answer these questions.  \n",
    "\n",
    "- What is the mean temperature difference over the month of July? \n",
    "- What is the difference between the means of the max and min daily temperatures? \n",
    "- Do you see a relationship between these two quantities?  If so, can you prove that it's always the case for mean difference and difference of means? "
   ]
  },
  {
   "cell_type": "code",
   "execution_count": 25,
   "metadata": {},
   "outputs": [
    {
     "name": "stderr",
     "output_type": "stream",
     "text": [
      "C:\\ProgramData\\Anaconda3\\envs\\scientificProject\\lib\\site-packages\\pandas\\core\\indexing.py:1596: SettingWithCopyWarning: \n",
      "A value is trying to be set on a copy of a slice from a DataFrame.\n",
      "Try using .loc[row_indexer,col_indexer] = value instead\n",
      "\n",
      "See the caveats in the documentation: https://pandas.pydata.org/pandas-docs/stable/user_guide/indexing.html#returning-a-view-versus-a-copy\n",
      "  self.obj[key] = _infer_fill_value(value)\n",
      "C:\\ProgramData\\Anaconda3\\envs\\scientificProject\\lib\\site-packages\\pandas\\core\\indexing.py:1745: SettingWithCopyWarning: \n",
      "A value is trying to be set on a copy of a slice from a DataFrame.\n",
      "Try using .loc[row_indexer,col_indexer] = value instead\n",
      "\n",
      "See the caveats in the documentation: https://pandas.pydata.org/pandas-docs/stable/user_guide/indexing.html#returning-a-view-versus-a-copy\n",
      "  isetter(ilocs[0], value)\n"
     ]
    },
    {
     "data": {
      "text/plain": "        STATION          NAME        DATE  PRCP  TMAX  TMIN     TMAX-C  \\\n93  USS0005J42S  NIWOT, CO US  2017-07-01   0.0  69.0  32.0  20.555556   \n94  USS0005J42S  NIWOT, CO US  2017-07-02   0.0  73.0  37.0  22.777778   \n95  USS0005J42S  NIWOT, CO US  2017-07-03   0.0  68.0  47.0  20.000000   \n96  USS0005J42S  NIWOT, CO US  2017-07-04   0.1  70.0  41.0  21.111111   \n97  USS0005J42S  NIWOT, CO US  2017-07-05   0.0  74.0  40.0  23.333333   \n\n      TMIN-C  TDIFF  \n93  0.000000   37.0  \n94  2.777778   36.0  \n95  8.333333   21.0  \n96  5.000000   29.0  \n97  4.444444   34.0  ",
      "text/html": "<div>\n<style scoped>\n    .dataframe tbody tr th:only-of-type {\n        vertical-align: middle;\n    }\n\n    .dataframe tbody tr th {\n        vertical-align: top;\n    }\n\n    .dataframe thead th {\n        text-align: right;\n    }\n</style>\n<table border=\"1\" class=\"dataframe\">\n  <thead>\n    <tr style=\"text-align: right;\">\n      <th></th>\n      <th>STATION</th>\n      <th>NAME</th>\n      <th>DATE</th>\n      <th>PRCP</th>\n      <th>TMAX</th>\n      <th>TMIN</th>\n      <th>TMAX-C</th>\n      <th>TMIN-C</th>\n      <th>TDIFF</th>\n    </tr>\n  </thead>\n  <tbody>\n    <tr>\n      <th>93</th>\n      <td>USS0005J42S</td>\n      <td>NIWOT, CO US</td>\n      <td>2017-07-01</td>\n      <td>0.0</td>\n      <td>69.0</td>\n      <td>32.0</td>\n      <td>20.555556</td>\n      <td>0.000000</td>\n      <td>37.0</td>\n    </tr>\n    <tr>\n      <th>94</th>\n      <td>USS0005J42S</td>\n      <td>NIWOT, CO US</td>\n      <td>2017-07-02</td>\n      <td>0.0</td>\n      <td>73.0</td>\n      <td>37.0</td>\n      <td>22.777778</td>\n      <td>2.777778</td>\n      <td>36.0</td>\n    </tr>\n    <tr>\n      <th>95</th>\n      <td>USS0005J42S</td>\n      <td>NIWOT, CO US</td>\n      <td>2017-07-03</td>\n      <td>0.0</td>\n      <td>68.0</td>\n      <td>47.0</td>\n      <td>20.000000</td>\n      <td>8.333333</td>\n      <td>21.0</td>\n    </tr>\n    <tr>\n      <th>96</th>\n      <td>USS0005J42S</td>\n      <td>NIWOT, CO US</td>\n      <td>2017-07-04</td>\n      <td>0.1</td>\n      <td>70.0</td>\n      <td>41.0</td>\n      <td>21.111111</td>\n      <td>5.000000</td>\n      <td>29.0</td>\n    </tr>\n    <tr>\n      <th>97</th>\n      <td>USS0005J42S</td>\n      <td>NIWOT, CO US</td>\n      <td>2017-07-05</td>\n      <td>0.0</td>\n      <td>74.0</td>\n      <td>40.0</td>\n      <td>23.333333</td>\n      <td>4.444444</td>\n      <td>34.0</td>\n    </tr>\n  </tbody>\n</table>\n</div>"
     },
     "execution_count": 25,
     "metadata": {},
     "output_type": "execute_result"
    }
   ],
   "source": [
    "dfNiwot.loc[:,'TDIFF'] = dfNiwot['TMAX'] - dfNiwot['TMIN']#your code here\n",
    "dfNiwot.head()"
   ]
  },
  {
   "cell_type": "markdown",
   "metadata": {},
   "source": [
    "To calculate the mean temperature difference, we need to get the mean of the **TDIFF** column we just created:"
   ]
  },
  {
   "cell_type": "code",
   "execution_count": 26,
   "metadata": {},
   "outputs": [
    {
     "name": "stdout",
     "output_type": "stream",
     "text": [
      "The mean of the differences is 26.290\n"
     ]
    }
   ],
   "source": [
    "mean_diffs = dfNiwot['TDIFF'].mean() #your code here\n",
    "print('The mean of the differences is {:0.3f}'.format(mean_diffs))"
   ]
  },
  {
   "cell_type": "markdown",
   "metadata": {},
   "source": [
    "The difference between the means of the max and min temperatures is:"
   ]
  },
  {
   "cell_type": "code",
   "execution_count": 27,
   "metadata": {},
   "outputs": [
    {
     "name": "stdout",
     "output_type": "stream",
     "text": [
      "The diff of the means is 26.290\n"
     ]
    }
   ],
   "source": [
    "diff_means = dfNiwot['TMAX'].mean() - dfNiwot['TMIN'].mean() #your code here\n",
    "print('The diff of the means is {:0.3f}'.format(diff_means))"
   ]
  },
  {
   "cell_type": "markdown",
   "metadata": {},
   "source": [
    "It looks like they're the same! Can we show mathematically that this is true in general? \n"
   ]
  },
  {
   "cell_type": "code",
   "execution_count": 27,
   "metadata": {},
   "outputs": [],
   "source": []
  }
 ],
 "metadata": {
  "kernelspec": {
   "name": "python3",
   "language": "python",
   "display_name": "Python 3"
  },
  "language_info": {
   "codemirror_mode": {
    "name": "ipython",
    "version": 3
   },
   "file_extension": ".py",
   "mimetype": "text/x-python",
   "name": "python",
   "nbconvert_exporter": "python",
   "pygments_lexer": "ipython3",
   "version": "3.6.4"
  }
 },
 "nbformat": 4,
 "nbformat_minor": 2
}